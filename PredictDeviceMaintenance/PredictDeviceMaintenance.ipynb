{
 "cells": [
  {
   "cell_type": "markdown",
   "metadata": {},
   "source": [
    "# Maintenance cost reduction through predictive techniques\n"
   ]
  },
  {
   "cell_type": "markdown",
   "metadata": {},
   "source": [
    "#### BACKGROUND\n",
    "A company has a ﬂeet of devices transmitting daily telemetry readings. They would like to create a predictive maintenance solution to proactively identify when maintenance should be performed. This approach promises cost savings over routine or time-based preventive maintenance, because tasks are performed only when warranted. \n"
   ]
  },
  {
   "cell_type": "markdown",
   "metadata": {},
   "source": [
    "### GOAL\n",
    "You are tasked with building a predictive model using machine learning to predict the probability of a device failure. When building this model, be sure to minimize false positives and false negatives. The column you are trying to predict is called failure with binary value 0 for non-failure and 1 for failure.\n"
   ]
  },
  {
   "cell_type": "markdown",
   "metadata": {},
   "source": [
    "### DATA\n",
    "Download link:  http://aws-proserve-data-science.s3.amazonaws.com/predictive_maintenance.csv "
   ]
  },
  {
   "cell_type": "markdown",
   "metadata": {},
   "source": [
    "**Summary** \n",
    "Analysis as of 1st May,2020- The best model that worked here is Naive Bayes with 69% accuracy.I have tried KNN, support vector machine , logistic regression, random forest , decision tree, Naïve Bases  algorithms .out of all these,logistic regression and run random forest are having overfitting problem. Only naïve bayes giving approx. 69% accuracy.***\n",
    "\n",
    "**Challenges Faced in this model-**\n",
    "1. Imbalaced Dataset . Dependent variable has ~12K '0' and ~100 - '1'. \n",
    "2. One categorical feature's cardinality is high . Its having ~1k categories .\n",
    "3. Most of features distribution is very low. Data are custered in one range . There are very less variables present in between min and max .Eg- metric2','metric3','metric4','metric7','metric8','metric9'.\n",
    "\n",
    "**Things that I have tried:**\n",
    "1. Handling imbalaced dataset : Using over sampling with ratio 1 - that means both dependent categories are having same number of samples. I think this is the one area in this entire problem where game is deciding . Need to find out another way to handle imbalaced data set.\n",
    "2. Handling high cardinal feature: pd.get_dummies is not working where number of categories are high as it will lead to dimension fo curse problem. I have tried two things-\n",
    "    2.1. Assign number based on the categories frequency. For example, if one feature call ‘X’ he's having two categories A&B.   Suppose, is having 20 levels and be is having 30 levels. then we need to replace A and B with 20 had 30, respectively. \n",
    "    2.2. Here we have taken 10most frequent categories and create columns based on that. \n",
    "3. I have also tried feature scaling. In feature scaling we have who approaches one is min Max scaling and another one is standard scaling. In min max scalling all the values will be in between 0 to 1 and in standard scaling we're using z score where mean equal to 0 and standard deviation equals to 1. This approach is also not giving good result. \n",
    "4. Last I have tried by deleting few of the featuresfrom the dataset.Example metric 234 789 as maximum lables are 0. f Around 11K labels are zero in this 6 features .hence I thought of tried this approach however it's not giving good result. \n",
    "\n",
    "**Things that I have learnt in this excersie:**\n",
    "1. Over sampling and under sampling .\n",
    "2. Feature sacling - min max scaler and std scaler.\n",
    "3. One hot encoding with many categorical variables.\n",
    "\n",
    "**Things need to be tried in future:**\n",
    "1. Fidn a better way to handle imbalaced dataset.\n",
    "2. Hyperparameter tuning .\n",
    "\n"
   ]
  },
  {
   "cell_type": "code",
   "execution_count": 1,
   "metadata": {},
   "outputs": [
    {
     "name": "stderr",
     "output_type": "stream",
     "text": [
      "C:\\Users\\chbhakat\\AppData\\Local\\Continuum\\anaconda3\\lib\\site-packages\\sklearn\\utils\\deprecation.py:144: FutureWarning: The sklearn.neighbors.base module is  deprecated in version 0.22 and will be removed in version 0.24. The corresponding classes / functions should instead be imported from sklearn.neighbors. Anything that cannot be imported from sklearn.neighbors is now part of the private API.\n",
      "  warnings.warn(message, FutureWarning)\n",
      "C:\\Users\\chbhakat\\AppData\\Local\\Continuum\\anaconda3\\lib\\site-packages\\sklearn\\utils\\deprecation.py:144: FutureWarning: The sklearn.ensemble.bagging module is  deprecated in version 0.22 and will be removed in version 0.24. The corresponding classes / functions should instead be imported from sklearn.ensemble. Anything that cannot be imported from sklearn.ensemble is now part of the private API.\n",
      "  warnings.warn(message, FutureWarning)\n",
      "C:\\Users\\chbhakat\\AppData\\Local\\Continuum\\anaconda3\\lib\\site-packages\\sklearn\\utils\\deprecation.py:144: FutureWarning: The sklearn.ensemble.base module is  deprecated in version 0.22 and will be removed in version 0.24. The corresponding classes / functions should instead be imported from sklearn.ensemble. Anything that cannot be imported from sklearn.ensemble is now part of the private API.\n",
      "  warnings.warn(message, FutureWarning)\n",
      "C:\\Users\\chbhakat\\AppData\\Local\\Continuum\\anaconda3\\lib\\site-packages\\sklearn\\utils\\deprecation.py:144: FutureWarning: The sklearn.ensemble.forest module is  deprecated in version 0.22 and will be removed in version 0.24. The corresponding classes / functions should instead be imported from sklearn.ensemble. Anything that cannot be imported from sklearn.ensemble is now part of the private API.\n",
      "  warnings.warn(message, FutureWarning)\n",
      "Using TensorFlow backend.\n",
      "C:\\Users\\chbhakat\\AppData\\Local\\Continuum\\anaconda3\\lib\\site-packages\\sklearn\\utils\\deprecation.py:144: FutureWarning: The sklearn.utils.testing module is  deprecated in version 0.22 and will be removed in version 0.24. The corresponding classes / functions should instead be imported from sklearn.utils. Anything that cannot be imported from sklearn.utils is now part of the private API.\n",
      "  warnings.warn(message, FutureWarning)\n",
      "C:\\Users\\chbhakat\\AppData\\Local\\Continuum\\anaconda3\\lib\\site-packages\\sklearn\\utils\\deprecation.py:144: FutureWarning: The sklearn.metrics.classification module is  deprecated in version 0.22 and will be removed in version 0.24. The corresponding classes / functions should instead be imported from sklearn.metrics. Anything that cannot be imported from sklearn.metrics is now part of the private API.\n",
      "  warnings.warn(message, FutureWarning)\n"
     ]
    }
   ],
   "source": [
    "import pandas as pd\n",
    "import numpy as np\n",
    "import matplotlib.pyplot as plt\n",
    "import sklearn as skt\n",
    "import seaborn as sns\n",
    "from sklearn.metrics import confusion_matrix,classification_report\n",
    "from imblearn.combine import SMOTETomek"
   ]
  },
  {
   "cell_type": "markdown",
   "metadata": {},
   "source": [
    "### Load data set"
   ]
  },
  {
   "cell_type": "code",
   "execution_count": 2,
   "metadata": {},
   "outputs": [
    {
     "data": {
      "text/html": [
       "<div>\n",
       "<style scoped>\n",
       "    .dataframe tbody tr th:only-of-type {\n",
       "        vertical-align: middle;\n",
       "    }\n",
       "\n",
       "    .dataframe tbody tr th {\n",
       "        vertical-align: top;\n",
       "    }\n",
       "\n",
       "    .dataframe thead th {\n",
       "        text-align: right;\n",
       "    }\n",
       "</style>\n",
       "<table border=\"1\" class=\"dataframe\">\n",
       "  <thead>\n",
       "    <tr style=\"text-align: right;\">\n",
       "      <th></th>\n",
       "      <th>date</th>\n",
       "      <th>device</th>\n",
       "      <th>failure</th>\n",
       "      <th>metric1</th>\n",
       "      <th>metric2</th>\n",
       "      <th>metric3</th>\n",
       "      <th>metric4</th>\n",
       "      <th>metric5</th>\n",
       "      <th>metric6</th>\n",
       "      <th>metric7</th>\n",
       "      <th>metric8</th>\n",
       "      <th>metric9</th>\n",
       "    </tr>\n",
       "  </thead>\n",
       "  <tbody>\n",
       "    <tr>\n",
       "      <td>0</td>\n",
       "      <td>1/1/2015</td>\n",
       "      <td>S1F04R7Y</td>\n",
       "      <td>0</td>\n",
       "      <td>126680112</td>\n",
       "      <td>0</td>\n",
       "      <td>0</td>\n",
       "      <td>0</td>\n",
       "      <td>7</td>\n",
       "      <td>398672</td>\n",
       "      <td>0</td>\n",
       "      <td>0</td>\n",
       "      <td>51</td>\n",
       "    </tr>\n",
       "    <tr>\n",
       "      <td>1</td>\n",
       "      <td>1/1/2015</td>\n",
       "      <td>S1F04TS4</td>\n",
       "      <td>0</td>\n",
       "      <td>11041528</td>\n",
       "      <td>0</td>\n",
       "      <td>0</td>\n",
       "      <td>8</td>\n",
       "      <td>6</td>\n",
       "      <td>385366</td>\n",
       "      <td>0</td>\n",
       "      <td>0</td>\n",
       "      <td>1</td>\n",
       "    </tr>\n",
       "    <tr>\n",
       "      <td>2</td>\n",
       "      <td>1/1/2015</td>\n",
       "      <td>S1F04Y6C</td>\n",
       "      <td>0</td>\n",
       "      <td>121664216</td>\n",
       "      <td>0</td>\n",
       "      <td>0</td>\n",
       "      <td>7</td>\n",
       "      <td>3</td>\n",
       "      <td>388821</td>\n",
       "      <td>0</td>\n",
       "      <td>0</td>\n",
       "      <td>0</td>\n",
       "    </tr>\n",
       "    <tr>\n",
       "      <td>3</td>\n",
       "      <td>1/1/2015</td>\n",
       "      <td>S1F059G0</td>\n",
       "      <td>0</td>\n",
       "      <td>131625384</td>\n",
       "      <td>0</td>\n",
       "      <td>14</td>\n",
       "      <td>0</td>\n",
       "      <td>3</td>\n",
       "      <td>399158</td>\n",
       "      <td>0</td>\n",
       "      <td>0</td>\n",
       "      <td>255</td>\n",
       "    </tr>\n",
       "    <tr>\n",
       "      <td>4</td>\n",
       "      <td>1/1/2015</td>\n",
       "      <td>S1F05AFP</td>\n",
       "      <td>0</td>\n",
       "      <td>182270456</td>\n",
       "      <td>0</td>\n",
       "      <td>0</td>\n",
       "      <td>2</td>\n",
       "      <td>3</td>\n",
       "      <td>378044</td>\n",
       "      <td>0</td>\n",
       "      <td>0</td>\n",
       "      <td>0</td>\n",
       "    </tr>\n",
       "    <tr>\n",
       "      <td>5</td>\n",
       "      <td>1/1/2015</td>\n",
       "      <td>S1F05B1Q</td>\n",
       "      <td>0</td>\n",
       "      <td>163784840</td>\n",
       "      <td>0</td>\n",
       "      <td>0</td>\n",
       "      <td>7</td>\n",
       "      <td>4</td>\n",
       "      <td>387410</td>\n",
       "      <td>0</td>\n",
       "      <td>0</td>\n",
       "      <td>57</td>\n",
       "    </tr>\n",
       "    <tr>\n",
       "      <td>6</td>\n",
       "      <td>1/1/2015</td>\n",
       "      <td>S1F05NAJ</td>\n",
       "      <td>0</td>\n",
       "      <td>133978568</td>\n",
       "      <td>192</td>\n",
       "      <td>0</td>\n",
       "      <td>0</td>\n",
       "      <td>4</td>\n",
       "      <td>336806</td>\n",
       "      <td>0</td>\n",
       "      <td>0</td>\n",
       "      <td>1</td>\n",
       "    </tr>\n",
       "    <tr>\n",
       "      <td>7</td>\n",
       "      <td>1/1/2015</td>\n",
       "      <td>S1F05P51</td>\n",
       "      <td>0</td>\n",
       "      <td>188415568</td>\n",
       "      <td>496</td>\n",
       "      <td>0</td>\n",
       "      <td>0</td>\n",
       "      <td>5</td>\n",
       "      <td>331171</td>\n",
       "      <td>0</td>\n",
       "      <td>0</td>\n",
       "      <td>0</td>\n",
       "    </tr>\n",
       "    <tr>\n",
       "      <td>8</td>\n",
       "      <td>1/1/2015</td>\n",
       "      <td>S1F05P5Z</td>\n",
       "      <td>0</td>\n",
       "      <td>212782472</td>\n",
       "      <td>928</td>\n",
       "      <td>0</td>\n",
       "      <td>3</td>\n",
       "      <td>4</td>\n",
       "      <td>331390</td>\n",
       "      <td>0</td>\n",
       "      <td>0</td>\n",
       "      <td>0</td>\n",
       "    </tr>\n",
       "    <tr>\n",
       "      <td>9</td>\n",
       "      <td>1/1/2015</td>\n",
       "      <td>S1F06E04</td>\n",
       "      <td>0</td>\n",
       "      <td>67826320</td>\n",
       "      <td>1952</td>\n",
       "      <td>0</td>\n",
       "      <td>12</td>\n",
       "      <td>5</td>\n",
       "      <td>375985</td>\n",
       "      <td>0</td>\n",
       "      <td>0</td>\n",
       "      <td>0</td>\n",
       "    </tr>\n",
       "  </tbody>\n",
       "</table>\n",
       "</div>"
      ],
      "text/plain": [
       "       date    device  failure    metric1  metric2  metric3  metric4  metric5  \\\n",
       "0  1/1/2015  S1F04R7Y        0  126680112        0        0        0        7   \n",
       "1  1/1/2015  S1F04TS4        0   11041528        0        0        8        6   \n",
       "2  1/1/2015  S1F04Y6C        0  121664216        0        0        7        3   \n",
       "3  1/1/2015  S1F059G0        0  131625384        0       14        0        3   \n",
       "4  1/1/2015  S1F05AFP        0  182270456        0        0        2        3   \n",
       "5  1/1/2015  S1F05B1Q        0  163784840        0        0        7        4   \n",
       "6  1/1/2015  S1F05NAJ        0  133978568      192        0        0        4   \n",
       "7  1/1/2015  S1F05P51        0  188415568      496        0        0        5   \n",
       "8  1/1/2015  S1F05P5Z        0  212782472      928        0        3        4   \n",
       "9  1/1/2015  S1F06E04        0   67826320     1952        0       12        5   \n",
       "\n",
       "   metric6  metric7  metric8  metric9  \n",
       "0   398672        0        0       51  \n",
       "1   385366        0        0        1  \n",
       "2   388821        0        0        0  \n",
       "3   399158        0        0      255  \n",
       "4   378044        0        0        0  \n",
       "5   387410        0        0       57  \n",
       "6   336806        0        0        1  \n",
       "7   331171        0        0        0  \n",
       "8   331390        0        0        0  \n",
       "9   375985        0        0        0  "
      ]
     },
     "execution_count": 2,
     "metadata": {},
     "output_type": "execute_result"
    }
   ],
   "source": [
    "df=pd.read_csv(\"C:/Users/chbhakat/Desktop/DS/Kaggle/AmazonInterview_PredictMaintenance/predictive_maintenance.csv\")\n",
    "df.head(10)"
   ]
  },
  {
   "cell_type": "code",
   "execution_count": 3,
   "metadata": {},
   "outputs": [
    {
     "name": "stdout",
     "output_type": "stream",
     "text": [
      "<class 'pandas.core.frame.DataFrame'>\n",
      "RangeIndex: 124435 entries, 0 to 124434\n",
      "Data columns (total 12 columns):\n",
      "date       124435 non-null object\n",
      "device     124435 non-null object\n",
      "failure    124435 non-null int64\n",
      "metric1    124435 non-null int64\n",
      "metric2    124435 non-null int64\n",
      "metric3    124435 non-null int64\n",
      "metric4    124435 non-null int64\n",
      "metric5    124435 non-null int64\n",
      "metric6    124435 non-null int64\n",
      "metric7    124435 non-null int64\n",
      "metric8    124435 non-null int64\n",
      "metric9    124435 non-null int64\n",
      "dtypes: int64(10), object(2)\n",
      "memory usage: 11.4+ MB\n"
     ]
    }
   ],
   "source": [
    "df.info()"
   ]
  },
  {
   "cell_type": "code",
   "execution_count": 4,
   "metadata": {},
   "outputs": [
    {
     "data": {
      "text/html": [
       "<div>\n",
       "<style scoped>\n",
       "    .dataframe tbody tr th:only-of-type {\n",
       "        vertical-align: middle;\n",
       "    }\n",
       "\n",
       "    .dataframe tbody tr th {\n",
       "        vertical-align: top;\n",
       "    }\n",
       "\n",
       "    .dataframe thead th {\n",
       "        text-align: right;\n",
       "    }\n",
       "</style>\n",
       "<table border=\"1\" class=\"dataframe\">\n",
       "  <thead>\n",
       "    <tr style=\"text-align: right;\">\n",
       "      <th></th>\n",
       "      <th>failure</th>\n",
       "      <th>metric1</th>\n",
       "      <th>metric2</th>\n",
       "      <th>metric3</th>\n",
       "      <th>metric4</th>\n",
       "      <th>metric5</th>\n",
       "      <th>metric6</th>\n",
       "      <th>metric7</th>\n",
       "      <th>metric8</th>\n",
       "      <th>metric9</th>\n",
       "    </tr>\n",
       "  </thead>\n",
       "  <tbody>\n",
       "    <tr>\n",
       "      <td>count</td>\n",
       "      <td>124435.000000</td>\n",
       "      <td>1.244350e+05</td>\n",
       "      <td>124435.000000</td>\n",
       "      <td>124435.000000</td>\n",
       "      <td>124435.000000</td>\n",
       "      <td>124435.000000</td>\n",
       "      <td>124435.000000</td>\n",
       "      <td>124435.000000</td>\n",
       "      <td>124435.000000</td>\n",
       "      <td>124435.000000</td>\n",
       "    </tr>\n",
       "    <tr>\n",
       "      <td>mean</td>\n",
       "      <td>0.000611</td>\n",
       "      <td>1.223870e+08</td>\n",
       "      <td>157.567758</td>\n",
       "      <td>9.739792</td>\n",
       "      <td>1.704890</td>\n",
       "      <td>14.223329</td>\n",
       "      <td>260152.359802</td>\n",
       "      <td>0.278652</td>\n",
       "      <td>0.278652</td>\n",
       "      <td>12.344903</td>\n",
       "    </tr>\n",
       "    <tr>\n",
       "      <td>std</td>\n",
       "      <td>0.024706</td>\n",
       "      <td>7.046060e+07</td>\n",
       "      <td>2155.810619</td>\n",
       "      <td>171.833518</td>\n",
       "      <td>22.435718</td>\n",
       "      <td>15.945044</td>\n",
       "      <td>99147.906746</td>\n",
       "      <td>6.998556</td>\n",
       "      <td>6.998556</td>\n",
       "      <td>189.174144</td>\n",
       "    </tr>\n",
       "    <tr>\n",
       "      <td>min</td>\n",
       "      <td>0.000000</td>\n",
       "      <td>0.000000e+00</td>\n",
       "      <td>0.000000</td>\n",
       "      <td>0.000000</td>\n",
       "      <td>0.000000</td>\n",
       "      <td>1.000000</td>\n",
       "      <td>8.000000</td>\n",
       "      <td>0.000000</td>\n",
       "      <td>0.000000</td>\n",
       "      <td>0.000000</td>\n",
       "    </tr>\n",
       "    <tr>\n",
       "      <td>25%</td>\n",
       "      <td>0.000000</td>\n",
       "      <td>6.128607e+07</td>\n",
       "      <td>0.000000</td>\n",
       "      <td>0.000000</td>\n",
       "      <td>0.000000</td>\n",
       "      <td>8.000000</td>\n",
       "      <td>221449.000000</td>\n",
       "      <td>0.000000</td>\n",
       "      <td>0.000000</td>\n",
       "      <td>0.000000</td>\n",
       "    </tr>\n",
       "    <tr>\n",
       "      <td>50%</td>\n",
       "      <td>0.000000</td>\n",
       "      <td>1.227971e+08</td>\n",
       "      <td>0.000000</td>\n",
       "      <td>0.000000</td>\n",
       "      <td>0.000000</td>\n",
       "      <td>10.000000</td>\n",
       "      <td>249796.000000</td>\n",
       "      <td>0.000000</td>\n",
       "      <td>0.000000</td>\n",
       "      <td>0.000000</td>\n",
       "    </tr>\n",
       "    <tr>\n",
       "      <td>75%</td>\n",
       "      <td>0.000000</td>\n",
       "      <td>1.833109e+08</td>\n",
       "      <td>0.000000</td>\n",
       "      <td>0.000000</td>\n",
       "      <td>0.000000</td>\n",
       "      <td>12.000000</td>\n",
       "      <td>310239.500000</td>\n",
       "      <td>0.000000</td>\n",
       "      <td>0.000000</td>\n",
       "      <td>0.000000</td>\n",
       "    </tr>\n",
       "    <tr>\n",
       "      <td>max</td>\n",
       "      <td>1.000000</td>\n",
       "      <td>2.441405e+08</td>\n",
       "      <td>64968.000000</td>\n",
       "      <td>24929.000000</td>\n",
       "      <td>1666.000000</td>\n",
       "      <td>98.000000</td>\n",
       "      <td>689161.000000</td>\n",
       "      <td>832.000000</td>\n",
       "      <td>832.000000</td>\n",
       "      <td>18701.000000</td>\n",
       "    </tr>\n",
       "  </tbody>\n",
       "</table>\n",
       "</div>"
      ],
      "text/plain": [
       "             failure       metric1        metric2        metric3  \\\n",
       "count  124435.000000  1.244350e+05  124435.000000  124435.000000   \n",
       "mean        0.000611  1.223870e+08     157.567758       9.739792   \n",
       "std         0.024706  7.046060e+07    2155.810619     171.833518   \n",
       "min         0.000000  0.000000e+00       0.000000       0.000000   \n",
       "25%         0.000000  6.128607e+07       0.000000       0.000000   \n",
       "50%         0.000000  1.227971e+08       0.000000       0.000000   \n",
       "75%         0.000000  1.833109e+08       0.000000       0.000000   \n",
       "max         1.000000  2.441405e+08   64968.000000   24929.000000   \n",
       "\n",
       "             metric4        metric5        metric6        metric7  \\\n",
       "count  124435.000000  124435.000000  124435.000000  124435.000000   \n",
       "mean        1.704890      14.223329  260152.359802       0.278652   \n",
       "std        22.435718      15.945044   99147.906746       6.998556   \n",
       "min         0.000000       1.000000       8.000000       0.000000   \n",
       "25%         0.000000       8.000000  221449.000000       0.000000   \n",
       "50%         0.000000      10.000000  249796.000000       0.000000   \n",
       "75%         0.000000      12.000000  310239.500000       0.000000   \n",
       "max      1666.000000      98.000000  689161.000000     832.000000   \n",
       "\n",
       "             metric8        metric9  \n",
       "count  124435.000000  124435.000000  \n",
       "mean        0.278652      12.344903  \n",
       "std         6.998556     189.174144  \n",
       "min         0.000000       0.000000  \n",
       "25%         0.000000       0.000000  \n",
       "50%         0.000000       0.000000  \n",
       "75%         0.000000       0.000000  \n",
       "max       832.000000   18701.000000  "
      ]
     },
     "execution_count": 4,
     "metadata": {},
     "output_type": "execute_result"
    }
   ],
   "source": [
    "df.describe()"
   ]
  },
  {
   "cell_type": "code",
   "execution_count": 5,
   "metadata": {},
   "outputs": [],
   "source": [
    "df.drop(['metric2','metric3','metric4','metric7','metric8','metric9'],axis=1,inplace=True)"
   ]
  },
  {
   "cell_type": "code",
   "execution_count": 6,
   "metadata": {},
   "outputs": [],
   "source": [
    "# from sklearn.preprocessing import StandardScaler\n",
    "# from sklearn.preprocessing import MinMaxScaler"
   ]
  },
  {
   "cell_type": "code",
   "execution_count": 7,
   "metadata": {},
   "outputs": [],
   "source": [
    "# # from sklearn.preprocessing import StandardScaler\n",
    "# # standardScaler=StandardScaler()\n",
    "# # columns_to_scale = ['age', 'trestbps', 'chol', 'thalach', 'oldpeak']\n",
    "# # dataset[columns_to_scale] = standardScaler.fit_transform(dataset[columns_to_scale])\n",
    "\n",
    "# scaling=StandardScaler()\n",
    "\n",
    "# df[['metric1','metric2','metric3','metric4','metric5','metric6','metric7','metric8']]=scaling.fit_transform(df[['metric1','metric2','metric3','metric4','metric5','metric6','metric7','metric8']])"
   ]
  },
  {
   "cell_type": "code",
   "execution_count": 8,
   "metadata": {},
   "outputs": [],
   "source": [
    "\n",
    "# scaling_mimmax=MinMaxScaler()\n",
    "# df[['metric1','metric2','metric3','metric4','metric5','metric6','metric7','metric8']]=scaling_mimmax.fit_transform(df[['metric1','metric2','metric3','metric4','metric5','metric6','metric7','metric8']])"
   ]
  },
  {
   "cell_type": "code",
   "execution_count": 9,
   "metadata": {},
   "outputs": [
    {
     "data": {
      "text/html": [
       "<div>\n",
       "<style scoped>\n",
       "    .dataframe tbody tr th:only-of-type {\n",
       "        vertical-align: middle;\n",
       "    }\n",
       "\n",
       "    .dataframe tbody tr th {\n",
       "        vertical-align: top;\n",
       "    }\n",
       "\n",
       "    .dataframe thead th {\n",
       "        text-align: right;\n",
       "    }\n",
       "</style>\n",
       "<table border=\"1\" class=\"dataframe\">\n",
       "  <thead>\n",
       "    <tr style=\"text-align: right;\">\n",
       "      <th></th>\n",
       "      <th>date</th>\n",
       "      <th>device</th>\n",
       "      <th>failure</th>\n",
       "      <th>metric1</th>\n",
       "      <th>metric5</th>\n",
       "      <th>metric6</th>\n",
       "    </tr>\n",
       "  </thead>\n",
       "  <tbody>\n",
       "    <tr>\n",
       "      <td>0</td>\n",
       "      <td>1/1/2015</td>\n",
       "      <td>S1F04R7Y</td>\n",
       "      <td>0</td>\n",
       "      <td>126680112</td>\n",
       "      <td>7</td>\n",
       "      <td>398672</td>\n",
       "    </tr>\n",
       "    <tr>\n",
       "      <td>1</td>\n",
       "      <td>1/1/2015</td>\n",
       "      <td>S1F04TS4</td>\n",
       "      <td>0</td>\n",
       "      <td>11041528</td>\n",
       "      <td>6</td>\n",
       "      <td>385366</td>\n",
       "    </tr>\n",
       "    <tr>\n",
       "      <td>2</td>\n",
       "      <td>1/1/2015</td>\n",
       "      <td>S1F04Y6C</td>\n",
       "      <td>0</td>\n",
       "      <td>121664216</td>\n",
       "      <td>3</td>\n",
       "      <td>388821</td>\n",
       "    </tr>\n",
       "    <tr>\n",
       "      <td>3</td>\n",
       "      <td>1/1/2015</td>\n",
       "      <td>S1F059G0</td>\n",
       "      <td>0</td>\n",
       "      <td>131625384</td>\n",
       "      <td>3</td>\n",
       "      <td>399158</td>\n",
       "    </tr>\n",
       "    <tr>\n",
       "      <td>4</td>\n",
       "      <td>1/1/2015</td>\n",
       "      <td>S1F05AFP</td>\n",
       "      <td>0</td>\n",
       "      <td>182270456</td>\n",
       "      <td>3</td>\n",
       "      <td>378044</td>\n",
       "    </tr>\n",
       "  </tbody>\n",
       "</table>\n",
       "</div>"
      ],
      "text/plain": [
       "       date    device  failure    metric1  metric5  metric6\n",
       "0  1/1/2015  S1F04R7Y        0  126680112        7   398672\n",
       "1  1/1/2015  S1F04TS4        0   11041528        6   385366\n",
       "2  1/1/2015  S1F04Y6C        0  121664216        3   388821\n",
       "3  1/1/2015  S1F059G0        0  131625384        3   399158\n",
       "4  1/1/2015  S1F05AFP        0  182270456        3   378044"
      ]
     },
     "execution_count": 9,
     "metadata": {},
     "output_type": "execute_result"
    }
   ],
   "source": [
    "df.head()"
   ]
  },
  {
   "cell_type": "code",
   "execution_count": 10,
   "metadata": {},
   "outputs": [
    {
     "data": {
      "text/html": [
       "<div>\n",
       "<style scoped>\n",
       "    .dataframe tbody tr th:only-of-type {\n",
       "        vertical-align: middle;\n",
       "    }\n",
       "\n",
       "    .dataframe tbody tr th {\n",
       "        vertical-align: top;\n",
       "    }\n",
       "\n",
       "    .dataframe thead th {\n",
       "        text-align: right;\n",
       "    }\n",
       "</style>\n",
       "<table border=\"1\" class=\"dataframe\">\n",
       "  <thead>\n",
       "    <tr style=\"text-align: right;\">\n",
       "      <th></th>\n",
       "      <th>failure</th>\n",
       "      <th>metric1</th>\n",
       "      <th>metric5</th>\n",
       "      <th>metric6</th>\n",
       "    </tr>\n",
       "  </thead>\n",
       "  <tbody>\n",
       "    <tr>\n",
       "      <td>count</td>\n",
       "      <td>124435.000000</td>\n",
       "      <td>1.244350e+05</td>\n",
       "      <td>124435.000000</td>\n",
       "      <td>124435.000000</td>\n",
       "    </tr>\n",
       "    <tr>\n",
       "      <td>mean</td>\n",
       "      <td>0.000611</td>\n",
       "      <td>1.223870e+08</td>\n",
       "      <td>14.223329</td>\n",
       "      <td>260152.359802</td>\n",
       "    </tr>\n",
       "    <tr>\n",
       "      <td>std</td>\n",
       "      <td>0.024706</td>\n",
       "      <td>7.046060e+07</td>\n",
       "      <td>15.945044</td>\n",
       "      <td>99147.906746</td>\n",
       "    </tr>\n",
       "    <tr>\n",
       "      <td>min</td>\n",
       "      <td>0.000000</td>\n",
       "      <td>0.000000e+00</td>\n",
       "      <td>1.000000</td>\n",
       "      <td>8.000000</td>\n",
       "    </tr>\n",
       "    <tr>\n",
       "      <td>25%</td>\n",
       "      <td>0.000000</td>\n",
       "      <td>6.128607e+07</td>\n",
       "      <td>8.000000</td>\n",
       "      <td>221449.000000</td>\n",
       "    </tr>\n",
       "    <tr>\n",
       "      <td>50%</td>\n",
       "      <td>0.000000</td>\n",
       "      <td>1.227971e+08</td>\n",
       "      <td>10.000000</td>\n",
       "      <td>249796.000000</td>\n",
       "    </tr>\n",
       "    <tr>\n",
       "      <td>75%</td>\n",
       "      <td>0.000000</td>\n",
       "      <td>1.833109e+08</td>\n",
       "      <td>12.000000</td>\n",
       "      <td>310239.500000</td>\n",
       "    </tr>\n",
       "    <tr>\n",
       "      <td>max</td>\n",
       "      <td>1.000000</td>\n",
       "      <td>2.441405e+08</td>\n",
       "      <td>98.000000</td>\n",
       "      <td>689161.000000</td>\n",
       "    </tr>\n",
       "  </tbody>\n",
       "</table>\n",
       "</div>"
      ],
      "text/plain": [
       "             failure       metric1        metric5        metric6\n",
       "count  124435.000000  1.244350e+05  124435.000000  124435.000000\n",
       "mean        0.000611  1.223870e+08      14.223329  260152.359802\n",
       "std         0.024706  7.046060e+07      15.945044   99147.906746\n",
       "min         0.000000  0.000000e+00       1.000000       8.000000\n",
       "25%         0.000000  6.128607e+07       8.000000  221449.000000\n",
       "50%         0.000000  1.227971e+08      10.000000  249796.000000\n",
       "75%         0.000000  1.833109e+08      12.000000  310239.500000\n",
       "max         1.000000  2.441405e+08      98.000000  689161.000000"
      ]
     },
     "execution_count": 10,
     "metadata": {},
     "output_type": "execute_result"
    }
   ],
   "source": [
    "df.describe()"
   ]
  },
  {
   "cell_type": "code",
   "execution_count": 11,
   "metadata": {},
   "outputs": [],
   "source": [
    "# sns.pairplot(df)"
   ]
  },
  {
   "cell_type": "code",
   "execution_count": 12,
   "metadata": {},
   "outputs": [
    {
     "data": {
      "text/html": [
       "<div>\n",
       "<style scoped>\n",
       "    .dataframe tbody tr th:only-of-type {\n",
       "        vertical-align: middle;\n",
       "    }\n",
       "\n",
       "    .dataframe tbody tr th {\n",
       "        vertical-align: top;\n",
       "    }\n",
       "\n",
       "    .dataframe thead th {\n",
       "        text-align: right;\n",
       "    }\n",
       "</style>\n",
       "<table border=\"1\" class=\"dataframe\">\n",
       "  <thead>\n",
       "    <tr style=\"text-align: right;\">\n",
       "      <th></th>\n",
       "      <th>failure</th>\n",
       "      <th>metric1</th>\n",
       "      <th>metric5</th>\n",
       "      <th>metric6</th>\n",
       "    </tr>\n",
       "  </thead>\n",
       "  <tbody>\n",
       "    <tr>\n",
       "      <td>failure</td>\n",
       "      <td>1.000000</td>\n",
       "      <td>0.001353</td>\n",
       "      <td>0.001041</td>\n",
       "      <td>-0.000695</td>\n",
       "    </tr>\n",
       "    <tr>\n",
       "      <td>metric1</td>\n",
       "      <td>0.001353</td>\n",
       "      <td>1.000000</td>\n",
       "      <td>-0.003404</td>\n",
       "      <td>-0.001489</td>\n",
       "    </tr>\n",
       "    <tr>\n",
       "      <td>metric5</td>\n",
       "      <td>0.001041</td>\n",
       "      <td>-0.003404</td>\n",
       "      <td>1.000000</td>\n",
       "      <td>-0.017001</td>\n",
       "    </tr>\n",
       "    <tr>\n",
       "      <td>metric6</td>\n",
       "      <td>-0.000695</td>\n",
       "      <td>-0.001489</td>\n",
       "      <td>-0.017001</td>\n",
       "      <td>1.000000</td>\n",
       "    </tr>\n",
       "  </tbody>\n",
       "</table>\n",
       "</div>"
      ],
      "text/plain": [
       "          failure   metric1   metric5   metric6\n",
       "failure  1.000000  0.001353  0.001041 -0.000695\n",
       "metric1  0.001353  1.000000 -0.003404 -0.001489\n",
       "metric5  0.001041 -0.003404  1.000000 -0.017001\n",
       "metric6 -0.000695 -0.001489 -0.017001  1.000000"
      ]
     },
     "execution_count": 12,
     "metadata": {},
     "output_type": "execute_result"
    }
   ],
   "source": [
    "df.corr()"
   ]
  },
  {
   "cell_type": "markdown",
   "metadata": {},
   "source": [
    "### Univariate analysis on dependent feature "
   ]
  },
  {
   "cell_type": "code",
   "execution_count": 13,
   "metadata": {},
   "outputs": [
    {
     "data": {
      "image/png": "[encoded data removed]",
      "text/plain": [
       "<Figure size 432x288 with 1 Axes>"
      ]
     },
     "metadata": {
      "needs_background": "light"
     },
     "output_type": "display_data"
    },
    {
     "data": {
      "image/png": "[encoded data removed]",
      "text/plain": [
       "<Figure size 432x288 with 1 Axes>"
      ]
     },
     "metadata": {
      "needs_background": "light"
     },
     "output_type": "display_data"
    },
    {
     "data": {
      "image/png": "[encoded data removed]",
      "text/plain": [
       "<Figure size 432x288 with 1 Axes>"
      ]
     },
     "metadata": {
      "needs_background": "light"
     },
     "output_type": "display_data"
    },
    {
     "data": {
      "image/png": "[encoded data removed]",
      "text/plain": [
       "<Figure size 432x288 with 1 Axes>"
      ]
     },
     "metadata": {
      "needs_background": "light"
     },
     "output_type": "display_data"
    },
    {
     "data": {
      "image/png": "[encoded data removed]",
      "text/plain": [
       "<Figure size 432x288 with 1 Axes>"
      ]
     },
     "metadata": {
      "needs_background": "light"
     },
     "output_type": "display_data"
    },
    {
     "data": {
      "image/png": "[encoded data removed]",
      "text/plain": [
       "<Figure size 432x288 with 1 Axes>"
      ]
     },
     "metadata": {
      "needs_background": "light"
     },
     "output_type": "display_data"
    }
   ],
   "source": [
    "#Univariate analysis of dependent feature.\n",
    "for feature in df.columns:\n",
    "    plt.hist(df[feature],bins=25)\n",
    "    plt.xlabel(feature)\n",
    "    plt.ylabel(\"count\")\n",
    "    plt.show()"
   ]
  },
  {
   "cell_type": "markdown",
   "metadata": {},
   "source": [
    "### Analyze descrite values of numerical variable and cardenality of categorical variable "
   ]
  },
  {
   "cell_type": "code",
   "execution_count": 14,
   "metadata": {},
   "outputs": [
    {
     "name": "stdout",
     "output_type": "stream",
     "text": [
      "1/3/2015      1163\n",
      "1/2/2015      1163\n",
      "1/4/2015      1162\n",
      "1/5/2015      1160\n",
      "1/1/2015      1134\n",
      "              ... \n",
      "10/31/2015      31\n",
      "10/30/2015      31\n",
      "10/27/2015      31\n",
      "10/29/2015      31\n",
      "11/2/2015       31\n",
      "Name: date, Length: 304, dtype: int64\n",
      "*********************************************\n",
      "S1F0H6JG    304\n",
      "S1F0GGPP    304\n",
      "W1F0SJJ2    304\n",
      "S1F0E9EP    304\n",
      "S1F0GPXY    304\n",
      "           ... \n",
      "S1F03RV3      4\n",
      "S1F0RRB1      4\n",
      "W1F0WJFT      3\n",
      "S1F04KSC      3\n",
      "W1F1DA5ÿ      1\n",
      "Name: device, Length: 1169, dtype: int64\n",
      "*********************************************\n",
      "0    124359\n",
      "1        76\n",
      "Name: failure, dtype: int64\n",
      "*********************************************\n",
      "89196552     26\n",
      "165048912    26\n",
      "57192360     26\n",
      "169490248    23\n",
      "89162648     15\n",
      "             ..\n",
      "130283560     1\n",
      "240315144     1\n",
      "153589344     1\n",
      "141393336     1\n",
      "133464400     1\n",
      "Name: metric1, Length: 123820, dtype: int64\n",
      "*********************************************\n",
      "8     22141\n",
      "9     13592\n",
      "11    12787\n",
      "10    11478\n",
      "7     11263\n",
      "12     9838\n",
      "6      8535\n",
      "13     6006\n",
      "14     3512\n",
      "5      3428\n",
      "16     3139\n",
      "15     1336\n",
      "17     1051\n",
      "4       931\n",
      "19      899\n",
      "3       813\n",
      "58      771\n",
      "24      720\n",
      "95      672\n",
      "60      672\n",
      "63      672\n",
      "37      634\n",
      "36      559\n",
      "23      557\n",
      "32      476\n",
      "92      448\n",
      "68      448\n",
      "57      448\n",
      "20      421\n",
      "90      357\n",
      "33      306\n",
      "25      305\n",
      "38      291\n",
      "39      252\n",
      "18      251\n",
      "64      251\n",
      "35      230\n",
      "31      229\n",
      "94      224\n",
      "62      224\n",
      "66      224\n",
      "61      224\n",
      "67      224\n",
      "59      224\n",
      "89      224\n",
      "70      224\n",
      "78      224\n",
      "98      224\n",
      "91      215\n",
      "34      213\n",
      "21      211\n",
      "2       202\n",
      "1       173\n",
      "40      151\n",
      "65      117\n",
      "42       94\n",
      "30       44\n",
      "22       30\n",
      "29       18\n",
      "41        8\n",
      "Name: metric5, dtype: int64\n",
      "*********************************************\n",
      "31        777\n",
      "44        708\n",
      "27        636\n",
      "26        520\n",
      "29        441\n",
      "         ... \n",
      "374419      1\n",
      "388760      1\n",
      "261786      1\n",
      "396964      1\n",
      "370543      1\n",
      "Name: metric6, Length: 44817, dtype: int64\n",
      "*********************************************\n"
     ]
    }
   ],
   "source": [
    "#Analyze in numerical values to indetify if and discret \n",
    "for feature in df.columns:\n",
    "#     print(feature,len(df[feature].unique()))\n",
    "      print(df[feature].value_counts())\n",
    "      print(\"*********************************************\")  "
   ]
  },
  {
   "cell_type": "markdown",
   "metadata": {},
   "source": [
    "### Identify outliers "
   ]
  },
  {
   "cell_type": "code",
   "execution_count": 15,
   "metadata": {},
   "outputs": [
    {
     "data": {
      "image/png": "[encoded data removed]",
      "text/plain": [
       "<Figure size 432x288 with 1 Axes>"
      ]
     },
     "metadata": {
      "needs_background": "light"
     },
     "output_type": "display_data"
    },
    {
     "data": {
      "image/png": "[encoded data removed]",
      "text/plain": [
       "<Figure size 432x288 with 1 Axes>"
      ]
     },
     "metadata": {
      "needs_background": "light"
     },
     "output_type": "display_data"
    },
    {
     "data": {
      "image/png": "[encoded data removed]",
      "text/plain": [
       "<Figure size 432x288 with 1 Axes>"
      ]
     },
     "metadata": {
      "needs_background": "light"
     },
     "output_type": "display_data"
    },
    {
     "data": {
      "image/png": "[encoded data removed]",
      "text/plain": [
       "<Figure size 432x288 with 1 Axes>"
      ]
     },
     "metadata": {
      "needs_background": "light"
     },
     "output_type": "display_data"
    }
   ],
   "source": [
    "#Check outlier \n",
    "for feature in df.columns:\n",
    "    if(feature!='date' and feature!='device'):\n",
    "        plt.boxplot(df[feature])\n",
    "        plt.xlabel(feature)\n",
    "        plt.ylabel(\"count\")\n",
    "        plt.show()"
   ]
  },
  {
   "cell_type": "markdown",
   "metadata": {},
   "source": [
    "##### Problem: device feature has more than 1000 categories . If we perform pd.get_dummies then it will create additional 1000 columns/dimentio which may lead to curse of dimenstion issue . Therefore , trying a two different approach .\n",
    "#### Approch 1 :\n",
    "#### we have taken 20 most important categories and created columns for them."
   ]
  },
  {
   "cell_type": "code",
   "execution_count": 16,
   "metadata": {},
   "outputs": [
    {
     "name": "stdout",
     "output_type": "stream",
     "text": [
      "unique labels present in the device column is : 1169\n"
     ]
    }
   ],
   "source": [
    "print(\"unique labels present in the device column is :\",len(df['device'].unique()))"
   ]
  },
  {
   "cell_type": "code",
   "execution_count": 17,
   "metadata": {},
   "outputs": [
    {
     "data": {
      "text/plain": [
       "S1F0H6JG    304\n",
       "Z1F0KKN4    304\n",
       "Z1F0GE1M    304\n",
       "S1F0EGMT    304\n",
       "W1F0JH87    304\n",
       "Z1F0QL3N    304\n",
       "Z1F0MA1S    304\n",
       "Z1F0KJDS    304\n",
       "W1F0JY02    304\n",
       "Z1F0QLC1    304\n",
       "W1F0JXDL    304\n",
       "S1F0GCED    304\n",
       "S1F0KYCR    304\n",
       "W1F0FZPA    304\n",
       "W1F0FY92    304\n",
       "S1F0FP0C    304\n",
       "W1F0G9T7    304\n",
       "Z1F0GB8A    304\n",
       "S1F0GGPP    304\n",
       "W1F0SJJ2    304\n",
       "Name: device, dtype: int64"
      ]
     },
     "execution_count": 17,
     "metadata": {},
     "output_type": "execute_result"
    }
   ],
   "source": [
    "df['device'].value_counts().sort_values(ascending=False).head(20)"
   ]
  },
  {
   "cell_type": "code",
   "execution_count": 18,
   "metadata": {},
   "outputs": [],
   "source": [
    "top20=[i for i in df['device'].value_counts().sort_values(ascending=False).head(20).index]\n"
   ]
  },
  {
   "cell_type": "code",
   "execution_count": 19,
   "metadata": {},
   "outputs": [],
   "source": [
    "# for lable in top10:\n",
    "#     df[lable]=np.where(df['device']==lable,1,0)\n",
    "    \n",
    "# df.head(10)\n",
    "# y=df['failure']\n",
    "# x=df.drop(['date','failure','device'],axis=1)   "
   ]
  },
  {
   "cell_type": "markdown",
   "metadata": {},
   "source": [
    "#### Approch 2 :\n",
    "#### we have obtained the counts for each one of the labels in variable 'device'.That means , we have get the count of each categories and repalce them with values ."
   ]
  },
  {
   "cell_type": "code",
   "execution_count": 20,
   "metadata": {},
   "outputs": [],
   "source": [
    "# let's obtain the counts for each one of the labels in variable 'device'\n",
    "# let's capture this in a dictionary that we can use to re-map the labels\n",
    "\n",
    "df_frequency_map=df['device'].value_counts().to_dict()\n",
    "# and now we replace X2 labels in the dataset df\n",
    "df['device'] = df['device'].map(df_frequency_map)\n",
    "\n",
    "df.head()\n",
    "\n",
    "y=df['failure']\n",
    "x=df.drop(['date','failure'],axis=1)"
   ]
  },
  {
   "cell_type": "code",
   "execution_count": 21,
   "metadata": {},
   "outputs": [],
   "source": [
    "from sklearn.model_selection import train_test_split\n",
    "x_train,x_test,y_train,y_test=train_test_split(x,y,test_size=0.2,random_state=100)\n",
    "    "
   ]
  },
  {
   "cell_type": "markdown",
   "metadata": {},
   "source": [
    "## KNN - Without handeling imbalanced data set. Does not make any sence , eventhough did it for self satisfaction."
   ]
  },
  {
   "cell_type": "code",
   "execution_count": 22,
   "metadata": {},
   "outputs": [
    {
     "data": {
      "text/plain": [
       "KNeighborsClassifier(algorithm='auto', leaf_size=30, metric='minkowski',\n",
       "                     metric_params=None, n_jobs=None, n_neighbors=6, p=2,\n",
       "                     weights='uniform')"
      ]
     },
     "execution_count": 22,
     "metadata": {},
     "output_type": "execute_result"
    }
   ],
   "source": [
    "#KNN model\n",
    "from sklearn.neighbors import KNeighborsClassifier\n",
    "knn=KNeighborsClassifier(n_neighbors=6)\n",
    "knn.fit(x_train,y_train)"
   ]
  },
  {
   "cell_type": "code",
   "execution_count": 23,
   "metadata": {},
   "outputs": [
    {
     "data": {
      "text/plain": [
       "array([0, 0, 0, ..., 0, 0, 0], dtype=int64)"
      ]
     },
     "execution_count": 23,
     "metadata": {},
     "output_type": "execute_result"
    }
   ],
   "source": [
    "knn.predict(x_test)"
   ]
  },
  {
   "cell_type": "code",
   "execution_count": 24,
   "metadata": {},
   "outputs": [
    {
     "name": "stdout",
     "output_type": "stream",
     "text": [
      "[[24869    18]\n",
      " [    0     0]]\n",
      "              precision    recall  f1-score   support\n",
      "\n",
      "           0       1.00      1.00      1.00     24887\n",
      "           1       0.00      0.00      0.00         0\n",
      "\n",
      "    accuracy                           1.00     24887\n",
      "   macro avg       0.50      0.50      0.50     24887\n",
      "weighted avg       1.00      1.00      1.00     24887\n",
      "\n"
     ]
    },
    {
     "name": "stderr",
     "output_type": "stream",
     "text": [
      "C:\\Users\\chbhakat\\AppData\\Local\\Continuum\\anaconda3\\lib\\site-packages\\sklearn\\metrics\\_classification.py:1272: UndefinedMetricWarning: Recall and F-score are ill-defined and being set to 0.0 in labels with no true samples. Use `zero_division` parameter to control this behavior.\n",
      "  _warn_prf(average, modifier, msg_start, len(result))\n"
     ]
    }
   ],
   "source": [
    "accuracy={}\n",
    "acc=knn.score(x_test,y_test)*100\n",
    "accuracy['KNearestNeighbors']=acc\n",
    "\n",
    "knn_predict=knn.predict(x_test)\n",
    "knn_cm=confusion_matrix(knn_predict,y_test)\n",
    "print(knn_cm)\n",
    "knn_as=classification_report(knn_predict,y_test)\n",
    "print(knn_as)"
   ]
  },
  {
   "cell_type": "code",
   "execution_count": 25,
   "metadata": {},
   "outputs": [],
   "source": [
    "# conda install -c conda-forge imbalanced-learn"
   ]
  },
  {
   "cell_type": "markdown",
   "metadata": {},
   "source": [
    "#### The most tricky part of the dataset is its imabalanced neature.In 'failure' feature 99.9% are '0' and only .1% is '1' category.We can handle this by using 2 approach .\n",
    "\n",
    "### Approach- 1:\n",
    "### Using undersampling : In this approach , we will loose many relivent information .\n"
   ]
  },
  {
   "cell_type": "code",
   "execution_count": 26,
   "metadata": {},
   "outputs": [],
   "source": [
    "from imblearn.under_sampling import NearMiss"
   ]
  },
  {
   "cell_type": "code",
   "execution_count": 27,
   "metadata": {},
   "outputs": [
    {
     "name": "stderr",
     "output_type": "stream",
     "text": [
      "C:\\Users\\chbhakat\\AppData\\Local\\Continuum\\anaconda3\\lib\\site-packages\\sklearn\\utils\\deprecation.py:87: FutureWarning: Function safe_indexing is deprecated; safe_indexing is deprecated in version 0.22 and will be removed in version 0.24.\n",
      "  warnings.warn(msg, category=FutureWarning)\n",
      "C:\\Users\\chbhakat\\AppData\\Local\\Continuum\\anaconda3\\lib\\site-packages\\sklearn\\utils\\deprecation.py:87: FutureWarning: Function safe_indexing is deprecated; safe_indexing is deprecated in version 0.22 and will be removed in version 0.24.\n",
      "  warnings.warn(msg, category=FutureWarning)\n",
      "C:\\Users\\chbhakat\\AppData\\Local\\Continuum\\anaconda3\\lib\\site-packages\\sklearn\\utils\\deprecation.py:87: FutureWarning: Function safe_indexing is deprecated; safe_indexing is deprecated in version 0.22 and will be removed in version 0.24.\n",
      "  warnings.warn(msg, category=FutureWarning)\n"
     ]
    }
   ],
   "source": [
    "# Implementing Undersampling for Handling Imbalanced \n",
    "nm = NearMiss(random_state=42)\n",
    "X_res,y_res=nm.fit_sample(x,y)"
   ]
  },
  {
   "cell_type": "code",
   "execution_count": 28,
   "metadata": {},
   "outputs": [
    {
     "data": {
      "text/plain": [
       "((152, 4), (152,))"
      ]
     },
     "execution_count": 28,
     "metadata": {},
     "output_type": "execute_result"
    }
   ],
   "source": [
    "X_res.shape,y_res.shape"
   ]
  },
  {
   "cell_type": "code",
   "execution_count": 29,
   "metadata": {},
   "outputs": [
    {
     "name": "stdout",
     "output_type": "stream",
     "text": [
      "[[16  5]\n",
      " [ 0 10]]\n",
      "              precision    recall  f1-score   support\n",
      "\n",
      "           0       1.00      0.76      0.86        21\n",
      "           1       0.67      1.00      0.80        10\n",
      "\n",
      "    accuracy                           0.84        31\n",
      "   macro avg       0.83      0.88      0.83        31\n",
      "weighted avg       0.89      0.84      0.84        31\n",
      "\n"
     ]
    }
   ],
   "source": [
    "from sklearn.model_selection import train_test_split\n",
    "x_train,x_test,y_train,y_test=train_test_split(X_res,y_res,test_size=0.2,random_state=100)\n",
    "\n",
    "#KNN model\n",
    "from sklearn.neighbors import KNeighborsClassifier\n",
    "knn=KNeighborsClassifier(n_neighbors=6)\n",
    "knn.fit(x_train,y_train)\n",
    "\n",
    "knn.predict(x_test)\n",
    "\n",
    "accuracy={}\n",
    "acc=knn.score(x_test,y_test)*100\n",
    "accuracy['KNearestNeighbors']=acc\n",
    "\n",
    "knn_predict=knn.predict(x_test)\n",
    "knn_cm=confusion_matrix(knn_predict,y_test)\n",
    "print(knn_cm)\n",
    "knn_as=classification_report(knn_predict,y_test)\n",
    "print(knn_as)\n"
   ]
  },
  {
   "cell_type": "markdown",
   "metadata": {},
   "source": [
    "### Approach- 2:\n",
    "### Using oversampling- I think this lead us to overfitting - needs to be investigated"
   ]
  },
  {
   "cell_type": "code",
   "execution_count": 30,
   "metadata": {},
   "outputs": [],
   "source": [
    "## RandomOverSampler to handle imbalanced data\n",
    "\n",
    "from imblearn.over_sampling import RandomOverSampler"
   ]
  },
  {
   "cell_type": "code",
   "execution_count": 31,
   "metadata": {},
   "outputs": [],
   "source": [
    "os =  RandomOverSampler(ratio=1)"
   ]
  },
  {
   "cell_type": "code",
   "execution_count": 32,
   "metadata": {},
   "outputs": [
    {
     "name": "stderr",
     "output_type": "stream",
     "text": [
      "C:\\Users\\chbhakat\\AppData\\Local\\Continuum\\anaconda3\\lib\\site-packages\\sklearn\\utils\\deprecation.py:87: FutureWarning: Function safe_indexing is deprecated; safe_indexing is deprecated in version 0.22 and will be removed in version 0.24.\n",
      "  warnings.warn(msg, category=FutureWarning)\n"
     ]
    }
   ],
   "source": [
    "X_train_res, y_train_res = os.fit_sample(x,y)"
   ]
  },
  {
   "cell_type": "code",
   "execution_count": 33,
   "metadata": {},
   "outputs": [
    {
     "data": {
      "text/plain": [
       "((248718, 4), (248718,))"
      ]
     },
     "execution_count": 33,
     "metadata": {},
     "output_type": "execute_result"
    }
   ],
   "source": [
    "X_train_res.shape,y_train_res.shape"
   ]
  },
  {
   "cell_type": "code",
   "execution_count": 34,
   "metadata": {},
   "outputs": [
    {
     "name": "stderr",
     "output_type": "stream",
     "text": [
      "C:\\Users\\chbhakat\\AppData\\Local\\Continuum\\anaconda3\\lib\\site-packages\\sklearn\\utils\\deprecation.py:87: FutureWarning: Function safe_indexing is deprecated; safe_indexing is deprecated in version 0.22 and will be removed in version 0.24.\n",
      "  warnings.warn(msg, category=FutureWarning)\n",
      "C:\\Users\\chbhakat\\AppData\\Local\\Continuum\\anaconda3\\lib\\site-packages\\sklearn\\utils\\deprecation.py:87: FutureWarning: Function safe_indexing is deprecated; safe_indexing is deprecated in version 0.22 and will be removed in version 0.24.\n",
      "  warnings.warn(msg, category=FutureWarning)\n"
     ]
    }
   ],
   "source": [
    "# In this example I use SMOTETomek which is a method of imblearn. SMOTETomek is a hybrid method\n",
    "# which uses an under sampling method (Tomek) in with an over sampling method (SMOTE).\n",
    "os_us = SMOTETomek(ratio=1)\n",
    "\n",
    "X_train_res1, y_train_res1 = os_us.fit_sample(x, y)"
   ]
  },
  {
   "cell_type": "code",
   "execution_count": 35,
   "metadata": {},
   "outputs": [
    {
     "data": {
      "text/plain": [
       "((232444, 4), (232444,))"
      ]
     },
     "execution_count": 35,
     "metadata": {},
     "output_type": "execute_result"
    }
   ],
   "source": [
    "X_train_res1.shape,y_train_res1.shape"
   ]
  },
  {
   "cell_type": "code",
   "execution_count": 36,
   "metadata": {},
   "outputs": [],
   "source": [
    "from sklearn.model_selection import train_test_split\n",
    "x_train,x_test,y_train,y_test=train_test_split(X_train_res1,y_train_res1,test_size=0.2,random_state=100)"
   ]
  },
  {
   "cell_type": "markdown",
   "metadata": {},
   "source": [
    "## KNN"
   ]
  },
  {
   "cell_type": "code",
   "execution_count": 37,
   "metadata": {},
   "outputs": [
    {
     "name": "stdout",
     "output_type": "stream",
     "text": [
      "[[19871  2543]\n",
      " [ 3461 20614]]\n",
      "              precision    recall  f1-score   support\n",
      "\n",
      "           0       0.85      0.89      0.87     22414\n",
      "           1       0.89      0.86      0.87     24075\n",
      "\n",
      "    accuracy                           0.87     46489\n",
      "   macro avg       0.87      0.87      0.87     46489\n",
      "weighted avg       0.87      0.87      0.87     46489\n",
      "\n"
     ]
    }
   ],
   "source": [
    "\n",
    "\n",
    "#KNN model\n",
    "from sklearn.neighbors import KNeighborsClassifier\n",
    "knn=KNeighborsClassifier(n_neighbors=6)\n",
    "knn.fit(x_train,y_train)\n",
    "\n",
    "knn.predict(x_test)\n",
    "\n",
    "accuracy={}\n",
    "acc=knn.score(x_test,y_test)*100\n",
    "accuracy['KNearestNeighbors']=acc\n",
    "\n",
    "knn_predict=knn.predict(x_test)\n",
    "knn_cm=confusion_matrix(knn_predict,y_test)\n",
    "print(knn_cm)\n",
    "knn_as=classification_report(knn_predict,y_test)\n",
    "print(knn_as)\n"
   ]
  },
  {
   "cell_type": "markdown",
   "metadata": {},
   "source": [
    "## Logistic regression"
   ]
  },
  {
   "cell_type": "code",
   "execution_count": 38,
   "metadata": {},
   "outputs": [
    {
     "data": {
      "text/plain": [
       "LogisticRegression(C=1.0, class_weight=None, dual=False, fit_intercept=True,\n",
       "                   intercept_scaling=1, l1_ratio=None, max_iter=100,\n",
       "                   multi_class='auto', n_jobs=None, penalty='l2',\n",
       "                   random_state=None, solver='lbfgs', tol=0.0001, verbose=0,\n",
       "                   warm_start=False)"
      ]
     },
     "execution_count": 38,
     "metadata": {},
     "output_type": "execute_result"
    }
   ],
   "source": [
    "from sklearn.linear_model import LogisticRegression\n",
    "\n",
    "logisticregression=LogisticRegression()\n",
    "logisticregression.fit(x_train,y_train)"
   ]
  },
  {
   "cell_type": "code",
   "execution_count": 39,
   "metadata": {},
   "outputs": [
    {
     "name": "stdout",
     "output_type": "stream",
     "text": [
      "[[10042 10311]\n",
      " [13290 12846]]\n",
      "              precision    recall  f1-score   support\n",
      "\n",
      "           0       0.43      0.49      0.46     20353\n",
      "           1       0.55      0.49      0.52     26136\n",
      "\n",
      "    accuracy                           0.49     46489\n",
      "   macro avg       0.49      0.49      0.49     46489\n",
      "weighted avg       0.50      0.49      0.49     46489\n",
      "\n"
     ]
    }
   ],
   "source": [
    "accuracy={}\n",
    "acc=logisticregression.score(x_test,y_test)*100\n",
    "accuracy['LogisticRegression']=acc\n",
    "lr_predict=logisticregression.predict(x_test)\n",
    "lr_cm=confusion_matrix(lr_predict,y_test)\n",
    "print(lr_cm)\n",
    "lr_as=classification_report(lr_predict,y_test)\n",
    "print(lr_as)"
   ]
  },
  {
   "cell_type": "markdown",
   "metadata": {},
   "source": [
    "## K Neighbors classifiers"
   ]
  },
  {
   "cell_type": "code",
   "execution_count": 40,
   "metadata": {},
   "outputs": [],
   "source": [
    "from sklearn.neighbors import KNeighborsClassifier\n",
    "kclassifier=[]\n",
    "for i in range(1,25):\n",
    "    knn=KNeighborsClassifier(n_neighbors=i)\n",
    "    knn.fit(x_train,y_train)\n",
    "    score=knn.score(x_test,y_test)\n",
    "    kclassifier.append(score.mean())\n",
    "    \n"
   ]
  },
  {
   "cell_type": "code",
   "execution_count": 41,
   "metadata": {},
   "outputs": [
    {
     "name": "stdout",
     "output_type": "stream",
     "text": [
      "[0.9126890232097916, 0.8818645270924305, 0.8820151003463185, 0.8764869108821441, 0.8726365376755791, 0.8708511690937641, 0.8647421970788789, 0.864161414528168, 0.8593000494740691, 0.8594721331927982, 0.8538148809395771, 0.8539009227989417, 0.848910494955796, 0.848759921701908, 0.8444363182688378, 0.8444363182688378, 0.8405859450622728, 0.8412742799371894, 0.8372948439415776, 0.8378110950977651, 0.834541504441911, 0.8350147346684161, 0.8313794661102626, 0.8309492568134398]\n"
     ]
    }
   ],
   "source": [
    "print(kclassifier)"
   ]
  },
  {
   "cell_type": "code",
   "execution_count": 42,
   "metadata": {},
   "outputs": [
    {
     "data": {
      "text/plain": [
       "Text(0.5, 1.0, 'K Neighbors Classifier scores for different K values')"
      ]
     },
     "execution_count": 42,
     "metadata": {},
     "output_type": "execute_result"
    },
    {
     "data": {
      "image/png": "[encoded data removed]",
      "text/plain": [
       "<Figure size 432x288 with 1 Axes>"
      ]
     },
     "metadata": {
      "needs_background": "light"
     },
     "output_type": "display_data"
    }
   ],
   "source": [
    "plt.plot([k for k in range(1, 25)],kclassifier,color=\"red\")\n",
    "for i in range(1,25) :\n",
    "    plt.text(i,kclassifier[i-1],(i,kclassifier[i-1]))\n",
    "plt.xticks([i for i in range(1, 25)])\n",
    "plt.xlabel('Number of Neighbors (K)')\n",
    "plt.ylabel('Scores')\n",
    "plt.title('K Neighbors Classifier scores for different K values')"
   ]
  },
  {
   "cell_type": "markdown",
   "metadata": {},
   "source": [
    "## SVM"
   ]
  },
  {
   "cell_type": "code",
   "execution_count": 43,
   "metadata": {},
   "outputs": [],
   "source": [
    "# from sklearn.svm import SVC\n",
    "# svm=SVC(random_state=1)\n",
    "# svm.fit(x_train,y_train)\n",
    "# acc=svm.score(x_test,y_test)*100\n",
    "# accuracy['SupportvectorMachine']=acc\n",
    "\n",
    "# svm_predict=svm.predict(x_test)\n",
    "# svm_cm=confusion_matrix(svm_predict,y_test)\n",
    "# print(svm_cm)\n",
    "# svm_as=classification_report(svm_predict,y_test)\n",
    "# print(svm_as)"
   ]
  },
  {
   "cell_type": "markdown",
   "metadata": {},
   "source": [
    "## Naive Bayes"
   ]
  },
  {
   "cell_type": "code",
   "execution_count": 44,
   "metadata": {},
   "outputs": [
    {
     "name": "stdout",
     "output_type": "stream",
     "text": [
      "[[ 5444  5145]\n",
      " [17888 18012]]\n",
      "              precision    recall  f1-score   support\n",
      "\n",
      "           0       0.23      0.51      0.32     10589\n",
      "           1       0.78      0.50      0.61     35900\n",
      "\n",
      "    accuracy                           0.50     46489\n",
      "   macro avg       0.51      0.51      0.47     46489\n",
      "weighted avg       0.65      0.50      0.54     46489\n",
      "\n"
     ]
    }
   ],
   "source": [
    "from sklearn.naive_bayes import GaussianNB\n",
    "nb=GaussianNB()\n",
    "nb.fit(x_train,y_train)\n",
    "acc=nb.score(x_test,y_test)*100\n",
    "accuracy['NaiveBayes']=acc\n",
    "\n",
    "nb_predict=nb.predict(x_test)\n",
    "nb_cm=confusion_matrix(nb_predict,y_test)\n",
    "print(nb_cm)\n",
    "nb_as=classification_report(nb_predict,y_test)\n",
    "print(nb_as)"
   ]
  },
  {
   "cell_type": "markdown",
   "metadata": {},
   "source": [
    "## Decision Tree"
   ]
  },
  {
   "cell_type": "code",
   "execution_count": 45,
   "metadata": {},
   "outputs": [
    {
     "name": "stdout",
     "output_type": "stream",
     "text": [
      "[[23189    46]\n",
      " [  143 23111]]\n",
      "              precision    recall  f1-score   support\n",
      "\n",
      "           0       0.99      1.00      1.00     23235\n",
      "           1       1.00      0.99      1.00     23254\n",
      "\n",
      "    accuracy                           1.00     46489\n",
      "   macro avg       1.00      1.00      1.00     46489\n",
      "weighted avg       1.00      1.00      1.00     46489\n",
      "\n"
     ]
    }
   ],
   "source": [
    "from sklearn.tree import DecisionTreeClassifier\n",
    "dt=DecisionTreeClassifier()\n",
    "dt.fit(x_train,y_train)\n",
    "acc=dt.score(x_test,y_test)*100\n",
    "accuracy['DecisionTreeClassifier']=acc\n",
    "\n",
    "dt_predict=dt.predict(x_test)\n",
    "dt_cm=confusion_matrix(dt_predict,y_test)\n",
    "print(dt_cm)\n",
    "dt_as=classification_report(dt_predict,y_test)\n",
    "print(dt_as)"
   ]
  },
  {
   "cell_type": "markdown",
   "metadata": {},
   "source": [
    "## Random Forest\n"
   ]
  },
  {
   "cell_type": "code",
   "execution_count": 46,
   "metadata": {},
   "outputs": [
    {
     "name": "stdout",
     "output_type": "stream",
     "text": [
      "[[23259     9]\n",
      " [   73 23148]]\n",
      "              precision    recall  f1-score   support\n",
      "\n",
      "           0       1.00      1.00      1.00     23268\n",
      "           1       1.00      1.00      1.00     23221\n",
      "\n",
      "    accuracy                           1.00     46489\n",
      "   macro avg       1.00      1.00      1.00     46489\n",
      "weighted avg       1.00      1.00      1.00     46489\n",
      "\n"
     ]
    }
   ],
   "source": [
    "accuracy={}\n",
    "from sklearn.ensemble import RandomForestClassifier\n",
    "rf=RandomForestClassifier(n_estimators = 1000, random_state = 1)\n",
    "rf.fit(x_train,y_train)\n",
    "acc=rf.score(x_test,y_test)*100\n",
    "accuracy['RandomForestClassifier']=acc\n",
    "\n",
    "rf_predict=rf.predict(x_test)\n",
    "rf_cm=confusion_matrix(rf_predict,y_test)\n",
    "print(rf_cm)\n",
    "rf_as=classification_report(rf_predict,y_test)\n",
    "print(rf_as)"
   ]
  },
  {
   "cell_type": "code",
   "execution_count": 47,
   "metadata": {},
   "outputs": [
    {
     "data": {
      "text/plain": [
       "dict_values([99.82361418830261])"
      ]
     },
     "execution_count": 47,
     "metadata": {},
     "output_type": "execute_result"
    }
   ],
   "source": [
    "accuracy.values()"
   ]
  },
  {
   "cell_type": "code",
   "execution_count": 48,
   "metadata": {},
   "outputs": [
    {
     "data": {
      "image/png": "[encoded data removed]",
      "text/plain": [
       "<Figure size 1152x360 with 1 Axes>"
      ]
     },
     "metadata": {},
     "output_type": "display_data"
    }
   ],
   "source": [
    "colors = [\"purple\", \"green\", \"orange\", \"magenta\",\"#CFC60E\",\"#0FBBAE\"]\n",
    "\n",
    "sns.set_style(\"whitegrid\")\n",
    "plt.figure(figsize=(16,5))\n",
    "plt.yticks(np.arange(0,100,10))\n",
    "plt.ylabel(\"Accuracy %\")\n",
    "plt.xlabel(\"Algorithms\")\n",
    "sns.barplot(x=list(accuracy.keys()), y=list(accuracy.values()), palette=colors)\n",
    "plt.show()"
   ]
  },
  {
   "cell_type": "code",
   "execution_count": 49,
   "metadata": {},
   "outputs": [
    {
     "data": {
      "image/png": "[encoded data removed]",
      "text/plain": [
       "<Figure size 1728x864 with 5 Axes>"
      ]
     },
     "metadata": {},
     "output_type": "display_data"
    }
   ],
   "source": [
    "plt.figure(figsize=(24,12))\n",
    "\n",
    "plt.suptitle(\"Confusion Matrixes\",fontsize=24)\n",
    "plt.subplots_adjust(wspace = 0.4, hspace= 0.4)\n",
    "\n",
    "plt.subplot(2,3,1)\n",
    "plt.title(\"Logistic Regression Confusion Matrix\")\n",
    "sns.heatmap(lr_cm,annot=True,cmap=\"Blues\",fmt=\"d\",cbar=False, annot_kws={\"size\": 24})\n",
    "\n",
    "plt.subplot(2,3,2)\n",
    "plt.title(\"K Nearest Neighbors Confusion Matrix\")\n",
    "sns.heatmap(knn_cm,annot=True,cmap=\"Blues\",fmt=\"d\",cbar=False, annot_kws={\"size\": 24})\n",
    "\n",
    "# plt.subplot(2,3,3)\n",
    "# plt.title(\"Support Vector Machine Confusion Matrix\")\n",
    "# sns.heatmap(svm_cm,annot=True,cmap=\"Blues\",fmt=\"d\",cbar=False, annot_kws={\"size\": 24})\n",
    "\n",
    "plt.subplot(2,3,4)\n",
    "plt.title(\"Naive Bayes Confusion Matrix\")\n",
    "sns.heatmap(nb_cm,annot=True,cmap=\"Blues\",fmt=\"d\",cbar=False, annot_kws={\"size\": 24})\n",
    "\n",
    "plt.subplot(2,3,5)\n",
    "plt.title(\"Decision Tree Classifier Confusion Matrix\")\n",
    "sns.heatmap(dt_cm,annot=True,cmap=\"Blues\",fmt=\"d\",cbar=False, annot_kws={\"size\": 24})\n",
    "\n",
    "plt.subplot(2,3,6)\n",
    "plt.title(\"Random Forest Confusion Matrix\")\n",
    "sns.heatmap(rf_cm,annot=True,cmap=\"Blues\",fmt=\"d\",cbar=False, annot_kws={\"size\": 24})\n",
    "\n",
    "plt.show()"
   ]
  },
  {
   "cell_type": "markdown",
   "metadata": {},
   "source": [
    "#### Test The model . Here , we have taken out 30 positive and negative rows from main dataset and model have not seen those data yet. Lets feed those information to the model and check accuracy."
   ]
  },
  {
   "cell_type": "code",
   "execution_count": 50,
   "metadata": {},
   "outputs": [
    {
     "data": {
      "text/html": [
       "<div>\n",
       "<style scoped>\n",
       "    .dataframe tbody tr th:only-of-type {\n",
       "        vertical-align: middle;\n",
       "    }\n",
       "\n",
       "    .dataframe tbody tr th {\n",
       "        vertical-align: top;\n",
       "    }\n",
       "\n",
       "    .dataframe thead th {\n",
       "        text-align: right;\n",
       "    }\n",
       "</style>\n",
       "<table border=\"1\" class=\"dataframe\">\n",
       "  <thead>\n",
       "    <tr style=\"text-align: right;\">\n",
       "      <th></th>\n",
       "      <th>date</th>\n",
       "      <th>device</th>\n",
       "      <th>failure</th>\n",
       "      <th>metric1</th>\n",
       "      <th>metric2</th>\n",
       "      <th>metric3</th>\n",
       "      <th>metric4</th>\n",
       "      <th>metric5</th>\n",
       "      <th>metric6</th>\n",
       "      <th>metric7</th>\n",
       "      <th>metric8</th>\n",
       "      <th>metric9</th>\n",
       "    </tr>\n",
       "  </thead>\n",
       "  <tbody>\n",
       "    <tr>\n",
       "      <td>0</td>\n",
       "      <td>1/5/2015</td>\n",
       "      <td>S1F0RRB1</td>\n",
       "      <td>1</td>\n",
       "      <td>48467332</td>\n",
       "      <td>64776</td>\n",
       "      <td>0</td>\n",
       "      <td>841</td>\n",
       "      <td>8</td>\n",
       "      <td>39267</td>\n",
       "      <td>56</td>\n",
       "      <td>56</td>\n",
       "      <td>1</td>\n",
       "    </tr>\n",
       "    <tr>\n",
       "      <td>1</td>\n",
       "      <td>1/7/2015</td>\n",
       "      <td>S1F0CTDN</td>\n",
       "      <td>1</td>\n",
       "      <td>184069720</td>\n",
       "      <td>528</td>\n",
       "      <td>0</td>\n",
       "      <td>4</td>\n",
       "      <td>9</td>\n",
       "      <td>387871</td>\n",
       "      <td>32</td>\n",
       "      <td>32</td>\n",
       "      <td>3</td>\n",
       "    </tr>\n",
       "    <tr>\n",
       "      <td>2</td>\n",
       "      <td>1/9/2015</td>\n",
       "      <td>W1F0PNA5</td>\n",
       "      <td>1</td>\n",
       "      <td>136429411</td>\n",
       "      <td>64784</td>\n",
       "      <td>0</td>\n",
       "      <td>406</td>\n",
       "      <td>30</td>\n",
       "      <td>224801</td>\n",
       "      <td>8</td>\n",
       "      <td>8</td>\n",
       "      <td>0</td>\n",
       "    </tr>\n",
       "    <tr>\n",
       "      <td>3</td>\n",
       "      <td>1/13/2015</td>\n",
       "      <td>W1F13SRV</td>\n",
       "      <td>1</td>\n",
       "      <td>188251248</td>\n",
       "      <td>2040</td>\n",
       "      <td>0</td>\n",
       "      <td>0</td>\n",
       "      <td>6</td>\n",
       "      <td>39345</td>\n",
       "      <td>32</td>\n",
       "      <td>32</td>\n",
       "      <td>1</td>\n",
       "    </tr>\n",
       "    <tr>\n",
       "      <td>4</td>\n",
       "      <td>1/14/2015</td>\n",
       "      <td>W1F1230J</td>\n",
       "      <td>1</td>\n",
       "      <td>220461296</td>\n",
       "      <td>0</td>\n",
       "      <td>0</td>\n",
       "      <td>0</td>\n",
       "      <td>14</td>\n",
       "      <td>325125</td>\n",
       "      <td>0</td>\n",
       "      <td>0</td>\n",
       "      <td>0</td>\n",
       "    </tr>\n",
       "    <tr>\n",
       "      <td>5</td>\n",
       "      <td>1/17/2015</td>\n",
       "      <td>W1F0T034</td>\n",
       "      <td>1</td>\n",
       "      <td>154998752</td>\n",
       "      <td>1312</td>\n",
       "      <td>0</td>\n",
       "      <td>18</td>\n",
       "      <td>10</td>\n",
       "      <td>306996</td>\n",
       "      <td>0</td>\n",
       "      <td>0</td>\n",
       "      <td>0</td>\n",
       "    </tr>\n",
       "    <tr>\n",
       "      <td>6</td>\n",
       "      <td>1/18/2015</td>\n",
       "      <td>S1F0GG8X</td>\n",
       "      <td>1</td>\n",
       "      <td>54292264</td>\n",
       "      <td>64736</td>\n",
       "      <td>0</td>\n",
       "      <td>160</td>\n",
       "      <td>11</td>\n",
       "      <td>192179</td>\n",
       "      <td>0</td>\n",
       "      <td>0</td>\n",
       "      <td>2</td>\n",
       "    </tr>\n",
       "    <tr>\n",
       "      <td>7</td>\n",
       "      <td>1/19/2015</td>\n",
       "      <td>S1F023H2</td>\n",
       "      <td>1</td>\n",
       "      <td>64499464</td>\n",
       "      <td>0</td>\n",
       "      <td>0</td>\n",
       "      <td>1</td>\n",
       "      <td>19</td>\n",
       "      <td>514661</td>\n",
       "      <td>16</td>\n",
       "      <td>16</td>\n",
       "      <td>3</td>\n",
       "    </tr>\n",
       "    <tr>\n",
       "      <td>8</td>\n",
       "      <td>1/19/2015</td>\n",
       "      <td>S1F0QY11</td>\n",
       "      <td>1</td>\n",
       "      <td>159635352</td>\n",
       "      <td>0</td>\n",
       "      <td>0</td>\n",
       "      <td>9</td>\n",
       "      <td>7</td>\n",
       "      <td>231336</td>\n",
       "      <td>16</td>\n",
       "      <td>16</td>\n",
       "      <td>0</td>\n",
       "    </tr>\n",
       "    <tr>\n",
       "      <td>9</td>\n",
       "      <td>1/19/2015</td>\n",
       "      <td>S1F0S2WJ</td>\n",
       "      <td>1</td>\n",
       "      <td>238299872</td>\n",
       "      <td>1184</td>\n",
       "      <td>0</td>\n",
       "      <td>0</td>\n",
       "      <td>14</td>\n",
       "      <td>268662</td>\n",
       "      <td>8</td>\n",
       "      <td>8</td>\n",
       "      <td>0</td>\n",
       "    </tr>\n",
       "  </tbody>\n",
       "</table>\n",
       "</div>"
      ],
      "text/plain": [
       "        date    device  failure    metric1  metric2  metric3  metric4  \\\n",
       "0   1/5/2015  S1F0RRB1        1   48467332    64776        0      841   \n",
       "1   1/7/2015  S1F0CTDN        1  184069720      528        0        4   \n",
       "2   1/9/2015  W1F0PNA5        1  136429411    64784        0      406   \n",
       "3  1/13/2015  W1F13SRV        1  188251248     2040        0        0   \n",
       "4  1/14/2015  W1F1230J        1  220461296        0        0        0   \n",
       "5  1/17/2015  W1F0T034        1  154998752     1312        0       18   \n",
       "6  1/18/2015  S1F0GG8X        1   54292264    64736        0      160   \n",
       "7  1/19/2015  S1F023H2        1   64499464        0        0        1   \n",
       "8  1/19/2015  S1F0QY11        1  159635352        0        0        9   \n",
       "9  1/19/2015  S1F0S2WJ        1  238299872     1184        0        0   \n",
       "\n",
       "   metric5  metric6  metric7  metric8  metric9  \n",
       "0        8    39267       56       56        1  \n",
       "1        9   387871       32       32        3  \n",
       "2       30   224801        8        8        0  \n",
       "3        6    39345       32       32        1  \n",
       "4       14   325125        0        0        0  \n",
       "5       10   306996        0        0        0  \n",
       "6       11   192179        0        0        2  \n",
       "7       19   514661       16       16        3  \n",
       "8        7   231336       16       16        0  \n",
       "9       14   268662        8        8        0  "
      ]
     },
     "execution_count": 50,
     "metadata": {},
     "output_type": "execute_result"
    }
   ],
   "source": [
    "df_test=pd.read_csv(\"C:/Users/chbhakat/Desktop/DS/Kaggle/AmazonInterview_PredictMaintenance/Test.csv\")\n",
    "df_test.head(10)"
   ]
  },
  {
   "cell_type": "code",
   "execution_count": 51,
   "metadata": {},
   "outputs": [],
   "source": [
    "df_test.drop(['metric2','metric3','metric4','metric7','metric8','metric9'],axis=1,inplace=True)"
   ]
  },
  {
   "cell_type": "code",
   "execution_count": 52,
   "metadata": {},
   "outputs": [
    {
     "name": "stdout",
     "output_type": "stream",
     "text": [
      "<class 'pandas.core.frame.DataFrame'>\n",
      "RangeIndex: 59 entries, 0 to 58\n",
      "Data columns (total 6 columns):\n",
      "date       59 non-null object\n",
      "device     59 non-null object\n",
      "failure    59 non-null int64\n",
      "metric1    59 non-null int64\n",
      "metric5    59 non-null int64\n",
      "metric6    59 non-null int64\n",
      "dtypes: int64(4), object(2)\n",
      "memory usage: 2.9+ KB\n"
     ]
    }
   ],
   "source": [
    "df_test.info()"
   ]
  },
  {
   "cell_type": "code",
   "execution_count": 53,
   "metadata": {},
   "outputs": [],
   "source": [
    "# from sklearn.preprocessing import StandardScaler\n",
    "# from sklearn.preprocessing import MinMaxScaler"
   ]
  },
  {
   "cell_type": "code",
   "execution_count": 54,
   "metadata": {},
   "outputs": [],
   "source": [
    "# scaling_mimmax=MinMaxScaler()\n",
    "# df_test[['metric1','metric2','metric3','metric4','metric5','metric6','metric7','metric8']]=scaling_mimmax.fit_transform(df_test[['metric1','metric2','metric3','metric4','metric5','metric6','metric7','metric8']])"
   ]
  },
  {
   "cell_type": "code",
   "execution_count": 55,
   "metadata": {},
   "outputs": [],
   "source": [
    "# let's obtain the counts for each one of the labels in variable 'device'\n",
    "# let's capture this in a dictionary that we can use to re-map the labels\n",
    "\n",
    "df_frequency_map=df_test['device'].value_counts().to_dict()\n",
    "# and now we replace X2 labels in the dataset df\n",
    "df_test['device'] = df_test['device'].map(df_frequency_map)\n",
    "\n",
    "df_test.head()\n",
    "y_test_model=df_test['failure']\n",
    "x_test_model=df_test.drop(['date','failure'],axis=1)"
   ]
  },
  {
   "cell_type": "code",
   "execution_count": 56,
   "metadata": {},
   "outputs": [
    {
     "data": {
      "text/plain": [
       "((59,), (59, 4))"
      ]
     },
     "execution_count": 56,
     "metadata": {},
     "output_type": "execute_result"
    }
   ],
   "source": [
    "y_test_model.shape,x_test_model.shape"
   ]
  },
  {
   "cell_type": "code",
   "execution_count": 57,
   "metadata": {},
   "outputs": [
    {
     "data": {
      "text/html": [
       "<div>\n",
       "<style scoped>\n",
       "    .dataframe tbody tr th:only-of-type {\n",
       "        vertical-align: middle;\n",
       "    }\n",
       "\n",
       "    .dataframe tbody tr th {\n",
       "        vertical-align: top;\n",
       "    }\n",
       "\n",
       "    .dataframe thead th {\n",
       "        text-align: right;\n",
       "    }\n",
       "</style>\n",
       "<table border=\"1\" class=\"dataframe\">\n",
       "  <thead>\n",
       "    <tr style=\"text-align: right;\">\n",
       "      <th></th>\n",
       "      <th>date</th>\n",
       "      <th>device</th>\n",
       "      <th>failure</th>\n",
       "      <th>metric1</th>\n",
       "      <th>metric5</th>\n",
       "      <th>metric6</th>\n",
       "    </tr>\n",
       "  </thead>\n",
       "  <tbody>\n",
       "    <tr>\n",
       "      <td>0</td>\n",
       "      <td>1/5/2015</td>\n",
       "      <td>1</td>\n",
       "      <td>1</td>\n",
       "      <td>48467332</td>\n",
       "      <td>8</td>\n",
       "      <td>39267</td>\n",
       "    </tr>\n",
       "    <tr>\n",
       "      <td>1</td>\n",
       "      <td>1/7/2015</td>\n",
       "      <td>1</td>\n",
       "      <td>1</td>\n",
       "      <td>184069720</td>\n",
       "      <td>9</td>\n",
       "      <td>387871</td>\n",
       "    </tr>\n",
       "    <tr>\n",
       "      <td>2</td>\n",
       "      <td>1/9/2015</td>\n",
       "      <td>1</td>\n",
       "      <td>1</td>\n",
       "      <td>136429411</td>\n",
       "      <td>30</td>\n",
       "      <td>224801</td>\n",
       "    </tr>\n",
       "    <tr>\n",
       "      <td>3</td>\n",
       "      <td>1/13/2015</td>\n",
       "      <td>1</td>\n",
       "      <td>1</td>\n",
       "      <td>188251248</td>\n",
       "      <td>6</td>\n",
       "      <td>39345</td>\n",
       "    </tr>\n",
       "    <tr>\n",
       "      <td>4</td>\n",
       "      <td>1/14/2015</td>\n",
       "      <td>1</td>\n",
       "      <td>1</td>\n",
       "      <td>220461296</td>\n",
       "      <td>14</td>\n",
       "      <td>325125</td>\n",
       "    </tr>\n",
       "  </tbody>\n",
       "</table>\n",
       "</div>"
      ],
      "text/plain": [
       "        date  device  failure    metric1  metric5  metric6\n",
       "0   1/5/2015       1        1   48467332        8    39267\n",
       "1   1/7/2015       1        1  184069720        9   387871\n",
       "2   1/9/2015       1        1  136429411       30   224801\n",
       "3  1/13/2015       1        1  188251248        6    39345\n",
       "4  1/14/2015       1        1  220461296       14   325125"
      ]
     },
     "execution_count": 57,
     "metadata": {},
     "output_type": "execute_result"
    }
   ],
   "source": [
    "df_test.head()"
   ]
  },
  {
   "cell_type": "markdown",
   "metadata": {},
   "source": [
    "### Test the model with test data(60 rows) using Random forest"
   ]
  },
  {
   "cell_type": "code",
   "execution_count": 58,
   "metadata": {},
   "outputs": [
    {
     "name": "stdout",
     "output_type": "stream",
     "text": [
      "[[29 30]\n",
      " [ 0  0]]\n",
      "              precision    recall  f1-score   support\n",
      "\n",
      "           0       1.00      0.49      0.66        59\n",
      "           1       0.00      0.00      0.00         0\n",
      "\n",
      "    accuracy                           0.49        59\n",
      "   macro avg       0.50      0.25      0.33        59\n",
      "weighted avg       1.00      0.49      0.66        59\n",
      "\n"
     ]
    },
    {
     "name": "stderr",
     "output_type": "stream",
     "text": [
      "C:\\Users\\chbhakat\\AppData\\Local\\Continuum\\anaconda3\\lib\\site-packages\\sklearn\\metrics\\_classification.py:1272: UndefinedMetricWarning: Recall and F-score are ill-defined and being set to 0.0 in labels with no true samples. Use `zero_division` parameter to control this behavior.\n",
      "  _warn_prf(average, modifier, msg_start, len(result))\n"
     ]
    }
   ],
   "source": [
    "rf_predict_model=rf.predict(x_test_model)\n",
    "rf_cm_model=confusion_matrix(rf_predict_model,y_test_model)\n",
    "print(rf_cm_model)\n",
    "rf_as_model=classification_report(rf_predict_model,y_test_model)\n",
    "print(rf_as_model)"
   ]
  },
  {
   "cell_type": "markdown",
   "metadata": {},
   "source": [
    "### Test the model with test data(60 rows) using Naive bayes "
   ]
  },
  {
   "cell_type": "code",
   "execution_count": 59,
   "metadata": {},
   "outputs": [
    {
     "name": "stdout",
     "output_type": "stream",
     "text": [
      "[[17  6]\n",
      " [12 24]]\n",
      "              precision    recall  f1-score   support\n",
      "\n",
      "           0       0.59      0.74      0.65        23\n",
      "           1       0.80      0.67      0.73        36\n",
      "\n",
      "    accuracy                           0.69        59\n",
      "   macro avg       0.69      0.70      0.69        59\n",
      "weighted avg       0.72      0.69      0.70        59\n",
      "\n"
     ]
    }
   ],
   "source": [
    "nb_predict_model=nb.predict(x_test_model)\n",
    "nb_cm_model=confusion_matrix(nb_predict_model,y_test_model)\n",
    "print(nb_cm_model)\n",
    "nb_as_model=classification_report(nb_predict_model,y_test_model)\n",
    "print(nb_as_model)"
   ]
  },
  {
   "cell_type": "code",
   "execution_count": 60,
   "metadata": {},
   "outputs": [
    {
     "name": "stdout",
     "output_type": "stream",
     "text": [
      "[[22 25]\n",
      " [ 7  5]]\n",
      "              precision    recall  f1-score   support\n",
      "\n",
      "           0       0.76      0.47      0.58        47\n",
      "           1       0.17      0.42      0.24        12\n",
      "\n",
      "    accuracy                           0.46        59\n",
      "   macro avg       0.46      0.44      0.41        59\n",
      "weighted avg       0.64      0.46      0.51        59\n",
      "\n"
     ]
    }
   ],
   "source": [
    "knn_predict=knn.predict(x_test_model)\n",
    "knn_cm=confusion_matrix(knn_predict,y_test_model)\n",
    "print(knn_cm)\n",
    "knn_as=classification_report(knn_predict,y_test_model)\n",
    "print(knn_as)"
   ]
  },
  {
   "cell_type": "code",
   "execution_count": 61,
   "metadata": {},
   "outputs": [
    {
     "name": "stdout",
     "output_type": "stream",
     "text": [
      "[[16 12]\n",
      " [13 18]]\n",
      "              precision    recall  f1-score   support\n",
      "\n",
      "           0       0.55      0.57      0.56        28\n",
      "           1       0.60      0.58      0.59        31\n",
      "\n",
      "    accuracy                           0.58        59\n",
      "   macro avg       0.58      0.58      0.58        59\n",
      "weighted avg       0.58      0.58      0.58        59\n",
      "\n"
     ]
    }
   ],
   "source": [
    "lr_predict=logisticregression.predict(x_test_model)\n",
    "lr_cm=confusion_matrix(lr_predict,y_test_model)\n",
    "print(lr_cm)\n",
    "lr_as=classification_report(lr_predict,y_test_model)\n",
    "print(lr_as)"
   ]
  },
  {
   "cell_type": "code",
   "execution_count": 62,
   "metadata": {},
   "outputs": [
    {
     "name": "stdout",
     "output_type": "stream",
     "text": [
      "[[29 30]\n",
      " [ 0  0]]\n",
      "              precision    recall  f1-score   support\n",
      "\n",
      "           0       1.00      0.49      0.66        59\n",
      "           1       0.00      0.00      0.00         0\n",
      "\n",
      "    accuracy                           0.49        59\n",
      "   macro avg       0.50      0.25      0.33        59\n",
      "weighted avg       1.00      0.49      0.66        59\n",
      "\n"
     ]
    },
    {
     "name": "stderr",
     "output_type": "stream",
     "text": [
      "C:\\Users\\chbhakat\\AppData\\Local\\Continuum\\anaconda3\\lib\\site-packages\\sklearn\\metrics\\_classification.py:1272: UndefinedMetricWarning: Recall and F-score are ill-defined and being set to 0.0 in labels with no true samples. Use `zero_division` parameter to control this behavior.\n",
      "  _warn_prf(average, modifier, msg_start, len(result))\n"
     ]
    }
   ],
   "source": [
    "dt_predict=dt.predict(x_test_model)\n",
    "dt_cm=confusion_matrix(dt_predict,y_test_model)\n",
    "print(dt_cm)\n",
    "dt_as=classification_report(dt_predict,y_test_model)\n",
    "print(dt_as)"
   ]
  }
 ],
 "metadata": {
  "kernelspec": {
   "display_name": "Python 3",
   "language": "python",
   "name": "python3"
  },
  "language_info": {
   "codemirror_mode": {
    "name": "ipython",
    "version": 3
   },
   "file_extension": ".py",
   "mimetype": "text/x-python",
   "name": "python",
   "nbconvert_exporter": "python",
   "pygments_lexer": "ipython3",
   "version": "3.7.4"
  }
 },
 "nbformat": 4,
 "nbformat_minor": 2
}
