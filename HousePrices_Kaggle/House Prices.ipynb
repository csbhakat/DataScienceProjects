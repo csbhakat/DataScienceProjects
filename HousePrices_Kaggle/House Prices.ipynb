{
  "cells": [
    {
      "metadata": {
        "trusted": true
      },
      "cell_type": "markdown",
      "source": "## House Price Prediction"
    },
    {
      "metadata": {
        "trusted": true
      },
      "cell_type": "code",
      "source": "!pip install xgboost",
      "execution_count": 1,
      "outputs": [
        {
          "output_type": "stream",
          "text": "Collecting xgboost\n\u001b[?25l  Downloading https://files.pythonhosted.org/packages/70/91/551d37ba472bcbd70a25e667acc65a18a9d053657b13afcf0f87aa24d7bb/xgboost-1.0.2-py3-none-manylinux1_x86_64.whl (109.7MB)\n\u001b[K     |████████████████████████████████| 109.8MB 2.3kB/s eta 0:00:01   |█▍                              | 4.7MB 3.8MB/s eta 0:00:28     |███▋                            | 12.3MB 2.3MB/s eta 0:00:42     |█████▉                          | 20.0MB 572kB/s eta 0:02:37     |██████                          | 20.9MB 572kB/s eta 0:02:36     |██████▎                         | 21.6MB 572kB/s eta 0:02:34 0:00:24     |████████▍                       | 28.7MB 3.5MB/s eta 0:00:23��██████                      | 34.2MB 404kB/s eta 0:03:08.2MB 167kB/s eta 0:07:18��█████▏                    | 38.3MB 167kB/s eta 0:07:06��█████▍                    | 39.1MB 1.6MB/s eta 0:00:44��█████▌                    | 39.6MB 1.6MB/s eta 0:00:44        | 42.0MB 37.0MB/s eta 0:00:02     |████████████▎                   | 42.1MB 37.0MB/s eta 0:00:02     |████████████▍                   | 42.5MB 37.0MB/s eta 0:00:02        | 42.8MB 37.0MB/s eta 0:00:02MB/s eta 0:00:30MB/s eta 0:00:29            | 53.9MB 326kB/s eta 0:02:52�███▍               | 56.0MB 1.9MB/s eta 0:00:28�███████████▌               | 56.5MB 1.9MB/s eta 0:00:28�███████████▊               | 57.5MB 491kB/s eta 0:01:47    | 57.9MB 491kB/s eta 0:01:46�████████████               | 58.4MB 491kB/s eta 0:01:45    |█████████████████▍              | 59.6MB 91kB/s eta 0:09:10    |█████████████████▋              | 60.5MB 91kB/s eta 0:09:01824kB/s eta 0:00:59/s eta 0:00:580:58��██▌             | 63.3MB 223kB/s eta 0:03:28�█▋             | 63.7MB 223kB/s eta 0:03:26▊             | 64.1MB 223kB/s eta 0:03:25�████████▏            | 65.6MB 228kB/s eta 0:03:14��███████████████▎            | 66.2MB 228kB/s eta 0:03:11�██▍            | 66.6MB 228kB/s eta 0:03:10ta 0:03:08█████████▊            | 67.7MB 228kB/s eta 0:03:05  | 68.0MB 8.2MB/s eta 0:00:06     |█████████████████████           | 72.3MB 295kB/s eta 0:02:07:03:11 eta 0:02:20.4MB 204kB/s eta 0:02:19     |████████████████████████        | 82.1MB 204kB/s eta 0:02:16.7MB 204kB/s eta 0:02:12��▏       | 83.0MB 223kB/s eta 0:02:00██████████████▊       | 84.7MB 223kB/s eta 0:01:53��▉       | 85.1MB 202kB/s eta 0:02:02��█       | 86.0MB 202kB/s eta 0:01:58�████████████▎      | 86.8MB 202kB/s eta 0:01:54█████████████████████▍      | 87.1MB 202kB/s eta 0:01:521:51�████████████▊      | 88.3MB 1.7MB/s eta 0:00:13�█████████████      | 89.0MB 1.7MB/s eta 0:00:13████████████████████████▌     | 91.0MB 4.0MB/s eta 0:00:05█████████████████████████     | 92.2MB 4.0MB/s eta 0:00:05█████████████████████████     | 92.7MB 4.0MB/s eta 0:00:05��███████████████████▏    | 93.1MB 4.0MB/s eta 0:00:05    | 93.6MB 404kB/s eta 0:00:40kB/s eta 0:00:36�█████    | 95.9MB 404kB/s eta 0:00:35��████▍   | 97.3MB 404kB/s eta 0:00:31��████▌   | 97.7MB 410kB/s eta 0:00:30��█████   | 99.5MB 410kB/s eta 0:00:26kB/s eta 0:00:25��████████████████████▎  | 100.4MB 410kB/s eta 0:00:23    |██████████████████████████████▏ | 103.6MB 454kB/s eta 0:00:14██████████████████████████████▍ | 104.2MB 454kB/s eta 0:00:13��██████████████████████████▌ | 104.5MB 454kB/s eta 0:00:12███████████████████████████████ | 106.3MB 3.5MB/s eta 0:00:02██████▍| 107.7MB 3.5MB/s eta 0:00:018.7MB 1.5MB/s eta 0:00:01\n\u001b[?25hRequirement already satisfied: scipy in /home/nbuser/anaconda3_501/lib/python3.6/site-packages (from xgboost) (1.1.0)\nRequirement already satisfied: numpy in /home/nbuser/anaconda3_501/lib/python3.6/site-packages (from xgboost) (1.16.2)\nInstalling collected packages: xgboost\nSuccessfully installed xgboost-1.0.2\n\u001b[33mWARNING: You are using pip version 19.3.1; however, version 20.0.2 is available.\nYou should consider upgrading via the 'pip install --upgrade pip' command.\u001b[0m\n",
          "name": "stdout"
        }
      ]
    },
    {
      "metadata": {},
      "cell_type": "markdown",
      "source": "\n**Import Libraries**"
    },
    {
      "metadata": {
        "trusted": true
      },
      "cell_type": "code",
      "source": "import pandas as pd\nimport matplotlib.pyplot as plt\nfrom sklearn.metrics import mean_squared_error\nfrom sklearn.model_selection import train_test_split\nfrom sklearn.model_selection import RandomizedSearchCV\nfrom math import sqrt\nfrom xgboost import XGBRegressor\nimport numpy as np\nimport pandas as pd\nimport matplotlib.pyplot as plt\nimport seaborn as sns\nfrom datetime import datetime\nfrom scipy.stats import skew ",
      "execution_count": 2,
      "outputs": [
        {
          "output_type": "stream",
          "text": "/home/nbuser/anaconda3_501/lib/python3.6/site-packages/matplotlib/font_manager.py:229: UserWarning: Matplotlib is building the font cache using fc-list. This may take a moment.\n  'Matplotlib is building the font cache using fc-list. '\n",
          "name": "stderr"
        }
      ]
    },
    {
      "metadata": {},
      "cell_type": "markdown",
      "source": "**Import Train and Test Files and add Sales price column to the test file as \nwe need to join both train and test file \nthat will help to clean up the data at the same time for both - Train and Test.csv**"
    },
    {
      "metadata": {
        "trusted": true
      },
      "cell_type": "code",
      "source": "df_train=pd.read_csv('train.csv')\ndf_test=pd.read_csv('test.csv')\ndf_test['SalePrice']=-888\n",
      "execution_count": 3,
      "outputs": []
    },
    {
      "metadata": {},
      "cell_type": "markdown",
      "source": "**Cleaning null values for garageYrBlt feature**"
    },
    {
      "metadata": {
        "trusted": true
      },
      "cell_type": "code",
      "source": "# df_train.loc[df_train['GarageYrBlt'].isnull(), 'GarageYrBlt'] = df_train['YearBuilt']\n# df_test.loc[df_test['GarageYrBlt'].isnull(), 'GarageYrBlt'] = df_test['YearBuilt']",
      "execution_count": 4,
      "outputs": []
    },
    {
      "metadata": {},
      "cell_type": "markdown",
      "source": "**Merging Tarin and Test Data set**"
    },
    {
      "metadata": {
        "trusted": true
      },
      "cell_type": "code",
      "source": "dataset=pd.concat([df_train,df_test],axis=0)\ndataset.info()",
      "execution_count": 5,
      "outputs": [
        {
          "output_type": "stream",
          "text": "<class 'pandas.core.frame.DataFrame'>\nInt64Index: 2919 entries, 0 to 1458\nData columns (total 81 columns):\nId               2919 non-null int64\nMSSubClass       2919 non-null int64\nMSZoning         2915 non-null object\nLotFrontage      2433 non-null float64\nLotArea          2919 non-null int64\nStreet           2919 non-null object\nAlley            198 non-null object\nLotShape         2919 non-null object\nLandContour      2919 non-null object\nUtilities        2917 non-null object\nLotConfig        2919 non-null object\nLandSlope        2919 non-null object\nNeighborhood     2919 non-null object\nCondition1       2919 non-null object\nCondition2       2919 non-null object\nBldgType         2919 non-null object\nHouseStyle       2919 non-null object\nOverallQual      2919 non-null int64\nOverallCond      2919 non-null int64\nYearBuilt        2919 non-null int64\nYearRemodAdd     2919 non-null int64\nRoofStyle        2919 non-null object\nRoofMatl         2919 non-null object\nExterior1st      2918 non-null object\nExterior2nd      2918 non-null object\nMasVnrType       2895 non-null object\nMasVnrArea       2896 non-null float64\nExterQual        2919 non-null object\nExterCond        2919 non-null object\nFoundation       2919 non-null object\nBsmtQual         2838 non-null object\nBsmtCond         2837 non-null object\nBsmtExposure     2837 non-null object\nBsmtFinType1     2840 non-null object\nBsmtFinSF1       2918 non-null float64\nBsmtFinType2     2839 non-null object\nBsmtFinSF2       2918 non-null float64\nBsmtUnfSF        2918 non-null float64\nTotalBsmtSF      2918 non-null float64\nHeating          2919 non-null object\nHeatingQC        2919 non-null object\nCentralAir       2919 non-null object\nElectrical       2918 non-null object\n1stFlrSF         2919 non-null int64\n2ndFlrSF         2919 non-null int64\nLowQualFinSF     2919 non-null int64\nGrLivArea        2919 non-null int64\nBsmtFullBath     2917 non-null float64\nBsmtHalfBath     2917 non-null float64\nFullBath         2919 non-null int64\nHalfBath         2919 non-null int64\nBedroomAbvGr     2919 non-null int64\nKitchenAbvGr     2919 non-null int64\nKitchenQual      2918 non-null object\nTotRmsAbvGrd     2919 non-null int64\nFunctional       2917 non-null object\nFireplaces       2919 non-null int64\nFireplaceQu      1499 non-null object\nGarageType       2762 non-null object\nGarageYrBlt      2760 non-null float64\nGarageFinish     2760 non-null object\nGarageCars       2918 non-null float64\nGarageArea       2918 non-null float64\nGarageQual       2760 non-null object\nGarageCond       2760 non-null object\nPavedDrive       2919 non-null object\nWoodDeckSF       2919 non-null int64\nOpenPorchSF      2919 non-null int64\nEnclosedPorch    2919 non-null int64\n3SsnPorch        2919 non-null int64\nScreenPorch      2919 non-null int64\nPoolArea         2919 non-null int64\nPoolQC           10 non-null object\nFence            571 non-null object\nMiscFeature      105 non-null object\nMiscVal          2919 non-null int64\nMoSold           2919 non-null int64\nYrSold           2919 non-null int64\nSaleType         2918 non-null object\nSaleCondition    2919 non-null object\nSalePrice        2919 non-null int64\ndtypes: float64(11), int64(27), object(43)\nmemory usage: 1.8+ MB\n",
          "name": "stdout"
        }
      ]
    },
    {
      "metadata": {
        "trusted": true
      },
      "cell_type": "code",
      "source": "dataset['Street'].value_counts()",
      "execution_count": 6,
      "outputs": [
        {
          "output_type": "execute_result",
          "execution_count": 6,
          "data": {
            "text/plain": "Pave    2907\nGrvl      12\nName: Street, dtype: int64"
          },
          "metadata": {}
        }
      ]
    },
    {
      "metadata": {},
      "cell_type": "markdown",
      "source": "# Data Analysis"
    },
    {
      "metadata": {
        "trusted": true
      },
      "cell_type": "code",
      "source": "## Data Analysis Phase\n## MAin aim is to understand more about the data\n\nimport pandas as pd\nimport numpy as np\nimport matplotlib.pyplot as plt\n%matplotlib inline\nimport seaborn as sns\n## Display all the columns of the dataframe\n\npd.pandas.set_option('display.max_columns',None)",
      "execution_count": 7,
      "outputs": []
    },
    {
      "metadata": {},
      "cell_type": "markdown",
      "source": "#### In Data Analysis We will Analyze To Find out the below stuff\n1. Missing Values\n2. All The Numerical Variables\n3. Distribution of the Numerical Variables\n4. Categorical Variables\n5. Cardinality of Categorical Variables\n6. Outliers\n7. Relationship between independent and dependent feature(SalePrice)"
    },
    {
      "metadata": {},
      "cell_type": "markdown",
      "source": "# 1. Missing Values"
    },
    {
      "metadata": {
        "trusted": true
      },
      "cell_type": "code",
      "source": "# Here we can see the missing values present in the DF in heatmap\nsns.heatmap(dataset.isnull(),yticklabels=False,cbar=False,cmap='coolwarm')",
      "execution_count": 8,
      "outputs": [
        {
          "output_type": "execute_result",
          "execution_count": 8,
          "data": {
            "text/plain": "<matplotlib.axes._subplots.AxesSubplot at 0x7fd081c62b38>"
          },
          "metadata": {}
        },
        {
          "output_type": "display_data",
          "data": {
            "image/png": "[encoded data removed]",
            "text/plain": "<Figure size 432x288 with 1 Axes>"
          },
          "metadata": {
            "needs_background": "light"
          }
        }
      ]
    },
    {
      "metadata": {
        "trusted": true
      },
      "cell_type": "code",
      "source": "sns.set_style(\"whitegrid\")\nmissing = dataset.isnull().sum()\nmissing = missing[missing > 0]\nmissing.sort_values(inplace=True)\nmissing.plot.bar()",
      "execution_count": 9,
      "outputs": [
        {
          "output_type": "execute_result",
          "execution_count": 9,
          "data": {
            "text/plain": "<matplotlib.axes._subplots.AxesSubplot at 0x7fd0819bf828>"
          },
          "metadata": {}
        },
        {
          "output_type": "display_data",
          "data": {
            "image/png": "[encoded data removed]",
            "text/plain": "<Figure size 432x288 with 1 Axes>"
          },
          "metadata": {}
        }
      ]
    },
    {
      "metadata": {
        "trusted": true
      },
      "cell_type": "code",
      "source": "#step-1 get alll columns with Null values\nfeatures_with_na=[features for features in dataset.columns if dataset[features].isnull().sum()>0]\nprint('total number of fatures are having null values {}'.format(len(features_with_na)))\n\n# for feature in features_with_na:\n#     print('Feature - {} and data type is {}'.format(feature ,df[feature].dtype))\n# step-2 get the percentage of missing values in each column\nfor feature in features_with_na:\n    print(feature ,np.round(dataset[feature].isnull().mean(),4),'% missing value')",
      "execution_count": 10,
      "outputs": [
        {
          "output_type": "stream",
          "text": "total number of fatures are having null values 34\nMSZoning 0.0014 % missing value\nLotFrontage 0.1665 % missing value\nAlley 0.9322 % missing value\nUtilities 0.0007 % missing value\nExterior1st 0.0003 % missing value\nExterior2nd 0.0003 % missing value\nMasVnrType 0.0082 % missing value\nMasVnrArea 0.0079 % missing value\nBsmtQual 0.0277 % missing value\nBsmtCond 0.0281 % missing value\nBsmtExposure 0.0281 % missing value\nBsmtFinType1 0.0271 % missing value\nBsmtFinSF1 0.0003 % missing value\nBsmtFinType2 0.0274 % missing value\nBsmtFinSF2 0.0003 % missing value\nBsmtUnfSF 0.0003 % missing value\nTotalBsmtSF 0.0003 % missing value\nElectrical 0.0003 % missing value\nBsmtFullBath 0.0007 % missing value\nBsmtHalfBath 0.0007 % missing value\nKitchenQual 0.0003 % missing value\nFunctional 0.0007 % missing value\nFireplaceQu 0.4865 % missing value\nGarageType 0.0538 % missing value\nGarageYrBlt 0.0545 % missing value\nGarageFinish 0.0545 % missing value\nGarageCars 0.0003 % missing value\nGarageArea 0.0003 % missing value\nGarageQual 0.0545 % missing value\nGarageCond 0.0545 % missing value\nPoolQC 0.9966 % missing value\nFence 0.8044 % missing value\nMiscFeature 0.964 % missing value\nSaleType 0.0003 % missing value\n",
          "name": "stdout"
        }
      ]
    },
    {
      "metadata": {
        "trusted": true
      },
      "cell_type": "code",
      "source": "test_normality = lambda x: stats.shapiro(x.fillna(0))[1] < 0.01\n# print(test_normality)\nnormal = pd.DataFrame(dataset[numerical_features])\nnormal = normal.apply(test_normality)\nprint(not normal.any())",
      "execution_count": 11,
      "outputs": [
        {
          "output_type": "error",
          "ename": "NameError",
          "evalue": "name 'numerical_features' is not defined",
          "traceback": [
            "\u001b[0;31m---------------------------------------------------------------------------\u001b[0m",
            "\u001b[0;31mNameError\u001b[0m                                 Traceback (most recent call last)",
            "\u001b[0;32m<ipython-input-11-48d82f4c8f96>\u001b[0m in \u001b[0;36m<module>\u001b[0;34m\u001b[0m\n\u001b[1;32m      1\u001b[0m \u001b[0mtest_normality\u001b[0m \u001b[0;34m=\u001b[0m \u001b[0;32mlambda\u001b[0m \u001b[0mx\u001b[0m\u001b[0;34m:\u001b[0m \u001b[0mstats\u001b[0m\u001b[0;34m.\u001b[0m\u001b[0mshapiro\u001b[0m\u001b[0;34m(\u001b[0m\u001b[0mx\u001b[0m\u001b[0;34m.\u001b[0m\u001b[0mfillna\u001b[0m\u001b[0;34m(\u001b[0m\u001b[0;36m0\u001b[0m\u001b[0;34m)\u001b[0m\u001b[0;34m)\u001b[0m\u001b[0;34m[\u001b[0m\u001b[0;36m1\u001b[0m\u001b[0;34m]\u001b[0m \u001b[0;34m<\u001b[0m \u001b[0;36m0.01\u001b[0m\u001b[0;34m\u001b[0m\u001b[0m\n\u001b[1;32m      2\u001b[0m \u001b[0;31m# print(test_normality)\u001b[0m\u001b[0;34m\u001b[0m\u001b[0;34m\u001b[0m\u001b[0m\n\u001b[0;32m----> 3\u001b[0;31m \u001b[0mnormal\u001b[0m \u001b[0;34m=\u001b[0m \u001b[0mpd\u001b[0m\u001b[0;34m.\u001b[0m\u001b[0mDataFrame\u001b[0m\u001b[0;34m(\u001b[0m\u001b[0mdataset\u001b[0m\u001b[0;34m[\u001b[0m\u001b[0mnumerical_features\u001b[0m\u001b[0;34m]\u001b[0m\u001b[0;34m)\u001b[0m\u001b[0;34m\u001b[0m\u001b[0m\n\u001b[0m\u001b[1;32m      4\u001b[0m \u001b[0mnormal\u001b[0m \u001b[0;34m=\u001b[0m \u001b[0mnormal\u001b[0m\u001b[0;34m.\u001b[0m\u001b[0mapply\u001b[0m\u001b[0;34m(\u001b[0m\u001b[0mtest_normality\u001b[0m\u001b[0;34m)\u001b[0m\u001b[0;34m\u001b[0m\u001b[0m\n\u001b[1;32m      5\u001b[0m \u001b[0mprint\u001b[0m\u001b[0;34m(\u001b[0m\u001b[0;32mnot\u001b[0m \u001b[0mnormal\u001b[0m\u001b[0;34m.\u001b[0m\u001b[0many\u001b[0m\u001b[0;34m(\u001b[0m\u001b[0;34m)\u001b[0m\u001b[0;34m)\u001b[0m\u001b[0;34m\u001b[0m\u001b[0m\n",
            "\u001b[0;31mNameError\u001b[0m: name 'numerical_features' is not defined"
          ]
        }
      ]
    },
    {
      "metadata": {},
      "cell_type": "markdown",
      "source": "### Since they are many missing values, we need to find the relationship between missing values and Sales Price\n\nLet's plot some diagram for this relationship\n"
    },
    {
      "metadata": {
        "trusted": true
      },
      "cell_type": "code",
      "source": "for feature in features_with_na:\n    data = dataset.copy()\n    \n    # let's make a variable that indicates 1 if the observation was missing or zero otherwise\n    data[feature] = np.where(data[feature].isnull(), 1, 0)\n    \n    # let's calculate the mean SalePrice where the information is missing or present\n    data.groupby(feature)['SalePrice'].median().plot.bar()\n    plt.title(feature)\n    plt.show()",
      "execution_count": null,
      "outputs": []
    },
    {
      "metadata": {},
      "cell_type": "markdown",
      "source": "Here With  the relation between the missing values and the dependent variable is clearly visible.So We need to replace these nan values with something meaningful which we will do in the Feature Engineering section"
    },
    {
      "metadata": {},
      "cell_type": "markdown",
      "source": "From the above dataset some of the features like Id is not required"
    },
    {
      "metadata": {
        "trusted": true
      },
      "cell_type": "code",
      "source": "print(\"Id of Houses {}\".format(len(dataset.Id)))",
      "execution_count": null,
      "outputs": []
    },
    {
      "metadata": {
        "trusted": true
      },
      "cell_type": "code",
      "source": "#Total number of features\ndataset.info()",
      "execution_count": null,
      "outputs": []
    },
    {
      "metadata": {},
      "cell_type": "markdown",
      "source": "# 2. Numerical Variables"
    },
    {
      "metadata": {
        "trusted": true
      },
      "cell_type": "code",
      "source": "numerical_features=[feature for feature in dataset.columns if dataset[feature].dtype!='O']\nprint('Number of numerical variables: ', len(numerical_features))\n\n# visualise the numerical variables\ndataset[numerical_features].head()\n\ncategorical_features=[feature for feature in dataset.columns if dataset[feature].dtype=='O']\nprint('Number of categorical variables: ', len(categorical_features))\n\nnumerical_features.remove('SalePrice')\nnumerical_features.remove('Id')\n# # list of information that contains year value\n# Year_features=[feature for feature in data.columns if 'Yr'in feature or 'Year' in feature]\n# Year_features",
      "execution_count": null,
      "outputs": []
    },
    {
      "metadata": {},
      "cell_type": "markdown",
      "source": "#### Temporal Variables(Eg: Datetime Variables)\n\nFrom the Dataset we have 4 year variables. We have extract information from the datetime variables like no of years or no of days. One example in this specific scenario can be difference in years between the year the house was built and the year the house was sold. We will be performing this analysis in the Feature Engineering which is the next video."
    },
    {
      "metadata": {
        "trusted": true
      },
      "cell_type": "code",
      "source": "# list of variables that contain year information\nyear_feature = [feature for feature in numerical_features if 'Yr' in feature or 'Year' in feature]\n\nyear_feature",
      "execution_count": null,
      "outputs": []
    },
    {
      "metadata": {
        "trusted": true
      },
      "cell_type": "code",
      "source": "# let's explore the content of these year variables\nfor feature in year_feature:\n    print(feature, dataset[feature].unique())",
      "execution_count": null,
      "outputs": []
    },
    {
      "metadata": {
        "trusted": true
      },
      "cell_type": "code",
      "source": "## Lets analyze the Temporal Datetime Variables\n## We will check whether there is a relation between year the house is sold and the sales price\n\ndataset.groupby('YrSold')['SalePrice'].median().plot()\nplt.xlabel('Year Sold')\nplt.ylabel('Median House Price')\nplt.title(\"House Price vs YearSold\")\n\n",
      "execution_count": null,
      "outputs": []
    },
    {
      "metadata": {
        "trusted": true
      },
      "cell_type": "code",
      "source": "## Here we will compare the difference between All years feature with SalePrice\n\nfor feature in year_feature:\n    if feature!='YrSold':\n        data=dataset.copy()\n        ## We will capture the difference between year variable and year the house was sold for\n        data[feature]=data['YrSold']-data[feature]\n\n        plt.scatter(data[feature],data['SalePrice'])\n        plt.xlabel(feature)\n        plt.ylabel('SalePrice')\n        plt.show()\n\n    \n    ",
      "execution_count": null,
      "outputs": []
    },
    {
      "metadata": {},
      "cell_type": "markdown",
      "source": "#### Discrete Variable"
    },
    {
      "metadata": {
        "trusted": true
      },
      "cell_type": "code",
      "source": "# in numerical varoiable we have two types - continious and discrete \ndiscrete_feature=[features for features in numerical_features if len(dataset[features].unique())<25 and features  not in year_feature+['id'] ]\n\nprint(len(discrete_feature))\ndiscrete_feature",
      "execution_count": null,
      "outputs": []
    },
    {
      "metadata": {
        "trusted": true
      },
      "cell_type": "code",
      "source": "dataset[discrete_feature].head()",
      "execution_count": null,
      "outputs": []
    },
    {
      "metadata": {
        "trusted": true
      },
      "cell_type": "code",
      "source": "## Lets Find the realtionship between them and Sale PRice\nfor feature in discrete_feature:\n    dataset.groupby(feature)['SalePrice'].median().plot.bar()\n    plt.xlabel(feature)\n    plt.ylabel('SalePrice')\n    plt.title(feature)\n    plt.show()",
      "execution_count": null,
      "outputs": []
    },
    {
      "metadata": {},
      "cell_type": "markdown",
      "source": "#### Continuous Variable"
    },
    {
      "metadata": {
        "trusted": true
      },
      "cell_type": "code",
      "source": "continious_feature=[features for features in numerical_features if features not in discrete_feature+year_feature+['id']]\nprint(len(continious_feature))",
      "execution_count": null,
      "outputs": []
    },
    {
      "metadata": {
        "trusted": true
      },
      "cell_type": "code",
      "source": "## Lets analyse the continuous values by creating histograms to understand the distribution\nfor feature in continious_feature:\n    data=dataset.copy()\n    data[feature].hist(bins=25)\n    plt.xlabel(feature)\n    plt.ylabel('SalesPrice')\n    plt.title(feature)\n    plt.show()",
      "execution_count": null,
      "outputs": []
    },
    {
      "metadata": {
        "trusted": true
      },
      "cell_type": "code",
      "source": "## We will be using logarithmic transformation\n\n\nfor feature in continious_feature:\n    data=dataset.copy()\n    if 0 in data[feature].unique():\n        pass\n    else:\n        data[feature]=np.log(data[feature])\n        data['SalePrice']=np.log(data['SalePrice'])\n        plt.scatter(data[feature],data['SalePrice'])\n        plt.xlabel(feature)\n        plt.ylabel('SalesPrice')\n        plt.title(feature)\n        plt.show()\n        \n    ",
      "execution_count": null,
      "outputs": []
    },
    {
      "metadata": {},
      "cell_type": "markdown",
      "source": "# 3.Outliers"
    },
    {
      "metadata": {
        "trusted": true
      },
      "cell_type": "code",
      "source": "for feature in continious_feature:\n    data=dataset.copy()\n    if 0 in data[feature].unique():\n        pass\n    else:\n        data[feature]=np.log(data[feature])\n        data.boxplot(column=feature)\n        plt.ylabel(feature)\n        plt.title(feature)\n        plt.show()",
      "execution_count": null,
      "outputs": []
    },
    {
      "metadata": {},
      "cell_type": "markdown",
      "source": "# 4.Categorical Features"
    },
    {
      "metadata": {
        "trusted": true
      },
      "cell_type": "code",
      "source": "categorical_feature=[features for features in dataset.columns if dataset[features].dtype=='O']\ncategorical_feature\nfor feature in categorical_feature:\n    print('The feature is {} and number of categories are {}'.format(feature,len(dataset[feature].unique())))",
      "execution_count": null,
      "outputs": []
    },
    {
      "metadata": {
        "trusted": true
      },
      "cell_type": "code",
      "source": "# find the relationship between categorical features and dependent featute - Sales Price\nfor feature in categorical_feature:\n    dataset.groupby(feature)['SalePrice'].median().plot.bar()\n    plt.xlabel(feature)\n    plt.ylabel('SalePrice')\n    plt.title(feature)\n    plt.show()",
      "execution_count": null,
      "outputs": []
    },
    {
      "metadata": {
        "trusted": true
      },
      "cell_type": "code",
      "source": "dataset.info()",
      "execution_count": null,
      "outputs": []
    },
    {
      "metadata": {},
      "cell_type": "markdown",
      "source": "#                                                      Feature Engineering "
    },
    {
      "metadata": {},
      "cell_type": "markdown",
      "source": "We will be performing all the below steps in Feature Engineering\n\n1. Missing values\n2. Temporal variables\n3. Categorical variables: remove rare labels\n4. Standarise the values of the variables to the same range"
    },
    {
      "metadata": {},
      "cell_type": "markdown",
      "source": "## Missing Values\n#### First handle categorical features missing values"
    },
    {
      "metadata": {
        "trusted": true
      },
      "cell_type": "code",
      "source": "## Let us capture all the nan values\n## First lets handle Categorical features which are missing\nfeatures_nan=[feature for feature in dataset.columns if dataset[feature].isnull().sum()>0 and dataset[feature].dtypes=='O']\n\nfor feature in features_nan:\n    print(\"{}: {}% missing values\".format(feature,np.round(dataset[feature].isnull().mean(),4)))",
      "execution_count": null,
      "outputs": []
    },
    {
      "metadata": {
        "trusted": true
      },
      "cell_type": "code",
      "source": "Categorical_feature=[feature for feature in dataset.columns if dataset[feature].isnull().sum()>0 and dataset[feature].dtype=='O']\ndef HandleMissingCategoricalFeatuteValue(dataset,features):\n    dataset[features]=dataset[features].fillna('missing')\n    return data\nHandleMissingCategoricalFeatuteValue(dataset,Categorical_feature)\ndataset[Categorical_feature].isnull().values.any()",
      "execution_count": null,
      "outputs": []
    },
    {
      "metadata": {},
      "cell_type": "markdown",
      "source": "#### handle numerical features missing values"
    },
    {
      "metadata": {
        "trusted": true
      },
      "cell_type": "code",
      "source": "## Now lets check for numerical variables the contains missing values\nnumerical_with_nan=[feature for feature in dataset.columns if dataset[feature].isnull().sum()>0 and dataset[feature].dtypes!='O']\n\n## We will print the numerical nan variables and percentage of missing values\n\nfor feature in numerical_with_nan:\n    print(\"{}: {}% missing value\".format(feature,np.around(dataset[feature].isnull().mean(),4)))",
      "execution_count": null,
      "outputs": []
    },
    {
      "metadata": {
        "trusted": true
      },
      "cell_type": "code",
      "source": "## Replacing the numerical Missing Values\n\nfor feature in numerical_with_nan:\n    ## We will replace by using median since there are outliers\n    median_value=dataset[feature].median()\n    \n    ## create a new feature to capture nan values\n    dataset[feature+'nan']=np.where(dataset[feature].isnull(),1,0)\n    dataset[feature].fillna(median_value,inplace=True)\n    \ndataset[numerical_with_nan].isnull().sum()\n    \ndataset[numerical_with_nan].isnull().values.any()",
      "execution_count": null,
      "outputs": []
    },
    {
      "metadata": {
        "trusted": true
      },
      "cell_type": "code",
      "source": "## Temporal Variables (Date Time Variables)\n\nfor feature in ['YearBuilt','YearRemodAdd','GarageYrBlt']:\n       \n    dataset[feature]=dataset['YrSold']-dataset[feature]",
      "execution_count": null,
      "outputs": []
    },
    {
      "metadata": {
        "trusted": true
      },
      "cell_type": "code",
      "source": "dataset.head()",
      "execution_count": null,
      "outputs": []
    },
    {
      "metadata": {
        "trusted": true
      },
      "cell_type": "code",
      "source": "dataset[['YearBuilt','YearRemodAdd','GarageYrBlt']].head()",
      "execution_count": null,
      "outputs": []
    },
    {
      "metadata": {},
      "cell_type": "markdown",
      "source": "## Numerical Variables\nSince the numerical variables are skewed we will perform log normal distribution"
    },
    {
      "metadata": {
        "trusted": true
      },
      "cell_type": "code",
      "source": "dataset.head()",
      "execution_count": null,
      "outputs": []
    },
    {
      "metadata": {
        "trusted": true
      },
      "cell_type": "code",
      "source": "import numpy as np\nnum_features=['LotFrontage', 'LotArea', '1stFlrSF', 'GrLivArea',]\n\nfor feature in num_features:\n    dataset[feature]=np.log(dataset[feature])",
      "execution_count": null,
      "outputs": []
    },
    {
      "metadata": {
        "trusted": true
      },
      "cell_type": "code",
      "source": "# dataset.info()\nlen(dataset['SalePrice'])",
      "execution_count": null,
      "outputs": []
    },
    {
      "metadata": {
        "trusted": true
      },
      "cell_type": "code",
      "source": "dataset.isnull().values.any()\nnull_feature=[feature for feature in dataset.columns if dataset[feature].isnull().sum()>0]\nnull_feature\n# dataset.isnull().sum()>1",
      "execution_count": null,
      "outputs": []
    },
    {
      "metadata": {},
      "cell_type": "markdown",
      "source": "## Handling Rare Categorical Feature\n\nWe will remove categorical variables that are present less than 1% of the observations"
    },
    {
      "metadata": {
        "trusted": true
      },
      "cell_type": "code",
      "source": "categorical_features=[feature for feature in dataset.columns if dataset[feature].dtype=='O']",
      "execution_count": null,
      "outputs": []
    },
    {
      "metadata": {
        "trusted": true
      },
      "cell_type": "code",
      "source": "categorical_features",
      "execution_count": null,
      "outputs": []
    },
    {
      "metadata": {
        "trusted": true
      },
      "cell_type": "code",
      "source": "for feature in categorical_features:\n    temp=dataset.groupby(feature)['SalePrice'].count()/len(dataset)\n    temp_dataset=temp[temp>0.01].index\n    dataset[feature]=np.where(dataset[feature].isin(temp_dataset),dataset[feature],'Rare_var')\n\n ",
      "execution_count": null,
      "outputs": []
    },
    {
      "metadata": {
        "trusted": true
      },
      "cell_type": "code",
      "source": "dataset.head()",
      "execution_count": null,
      "outputs": []
    },
    {
      "metadata": {
        "trusted": true
      },
      "cell_type": "code",
      "source": "for feature in categorical_features:\n    labels_ordered=dataset.groupby([feature])['SalePrice'].mean().sort_values().index\n    labels_ordered={k:i for i,k in enumerate(labels_ordered,0)}\n    dataset[feature]=dataset[feature].map(labels_ordered)",
      "execution_count": null,
      "outputs": []
    },
    {
      "metadata": {
        "trusted": true
      },
      "cell_type": "code",
      "source": "dataset.head()",
      "execution_count": null,
      "outputs": []
    },
    {
      "metadata": {
        "trusted": true
      },
      "cell_type": "code",
      "source": "scaling_feature=[feature for feature in dataset.columns if feature not in ['Id','SalePerice'] ]\nlen(scaling_feature)",
      "execution_count": null,
      "outputs": []
    },
    {
      "metadata": {},
      "cell_type": "markdown",
      "source": "## Feature Scaling"
    },
    {
      "metadata": {
        "trusted": true
      },
      "cell_type": "code",
      "source": "feature_scale=[feature for feature in dataset.columns if feature not in ['Id','SalePrice']]\n\nfrom sklearn.preprocessing import MinMaxScaler\nscaler=MinMaxScaler()\nscaler.fit(dataset[feature_scale])",
      "execution_count": null,
      "outputs": []
    },
    {
      "metadata": {
        "trusted": true
      },
      "cell_type": "code",
      "source": "scaler.transform(dataset[feature_scale])",
      "execution_count": null,
      "outputs": []
    },
    {
      "metadata": {
        "trusted": true
      },
      "cell_type": "code",
      "source": "# transform the train and test set, and add on the Id and SalePrice variables\ndata = pd.concat([dataset[['Id', 'SalePrice']].reset_index(drop=True),\n                    pd.DataFrame(scaler.transform(dataset[feature_scale]), columns=feature_scale)],\n                    axis=1)",
      "execution_count": null,
      "outputs": []
    },
    {
      "metadata": {
        "trusted": true
      },
      "cell_type": "code",
      "source": "data.head()",
      "execution_count": null,
      "outputs": []
    },
    {
      "metadata": {
        "trusted": true
      },
      "cell_type": "code",
      "source": "dataset.info()",
      "execution_count": null,
      "outputs": []
    },
    {
      "metadata": {
        "trusted": true
      },
      "cell_type": "code",
      "source": "dataset.to_csv('X_train.csv',index=False)",
      "execution_count": null,
      "outputs": []
    },
    {
      "metadata": {},
      "cell_type": "markdown",
      "source": "# Feature Selection"
    },
    {
      "metadata": {
        "trusted": true
      },
      "cell_type": "code",
      "source": "## for feature slection\n\nfrom sklearn.linear_model import Lasso\nfrom sklearn.feature_selection import SelectFromModel\n\n# to visualise al the columns in the dataframe\npd.pandas.set_option('display.max_columns', None)",
      "execution_count": null,
      "outputs": []
    },
    {
      "metadata": {
        "trusted": true
      },
      "cell_type": "code",
      "source": "dataset=pd.read_csv('X_train.csv')",
      "execution_count": null,
      "outputs": []
    },
    {
      "metadata": {
        "trusted": true
      },
      "cell_type": "code",
      "source": "dataset.head()",
      "execution_count": null,
      "outputs": []
    },
    {
      "metadata": {
        "trusted": true
      },
      "cell_type": "code",
      "source": "## Capture the dependent feature\ny_train=dataset[['SalePrice']]",
      "execution_count": null,
      "outputs": []
    },
    {
      "metadata": {
        "trusted": true
      },
      "cell_type": "code",
      "source": "## drop dependent feature from dataset\nX_train=dataset.drop(['Id','SalePrice'],axis=1)",
      "execution_count": null,
      "outputs": []
    },
    {
      "metadata": {
        "trusted": true
      },
      "cell_type": "code",
      "source": "### Apply Feature Selection\n# first, I specify the Lasso Regression model, and I\n# select a suitable alpha (equivalent of penalty).\n# The bigger the alpha the less features that will be selected.\n\n# Then I use the selectFromModel object from sklearn, which\n# will select the features which coefficients are non-zero\n\nfeature_sel_model = SelectFromModel(Lasso(alpha=0.005, random_state=0)) # remember to set the seed, the random state in this function\nfeature_sel_model.fit(X_train, y_train)",
      "execution_count": null,
      "outputs": []
    },
    {
      "metadata": {
        "trusted": true
      },
      "cell_type": "code",
      "source": "feature_sel_model.get_support()",
      "execution_count": null,
      "outputs": []
    },
    {
      "metadata": {
        "trusted": true
      },
      "cell_type": "code",
      "source": "# let's print the number of total and selected features\n\n# this is how we can make a list of the selected features\nselected_feat = X_train.columns[(feature_sel_model.get_support())]\n\n# let's print some stats\nprint('total features: {}'.format((X_train.shape[1])))\nprint('selected features: {}'.format(len(selected_feat)))\nprint('features with coefficients shrank to zero: {}'.format(\n    np.sum(sel_.estimator_.coef_ == 0)))",
      "execution_count": null,
      "outputs": []
    },
    {
      "metadata": {
        "trusted": true
      },
      "cell_type": "code",
      "source": "selected_feat",
      "execution_count": null,
      "outputs": []
    },
    {
      "metadata": {
        "trusted": true
      },
      "cell_type": "code",
      "source": "dataset=X_train[selected_feat]",
      "execution_count": null,
      "outputs": []
    },
    {
      "metadata": {
        "trusted": true
      },
      "cell_type": "code",
      "source": "dataset['SalePrice']=y_train",
      "execution_count": null,
      "outputs": []
    },
    {
      "metadata": {
        "trusted": true
      },
      "cell_type": "code",
      "source": "dataset.drop(['y_train'],axis=1,inplace=True)",
      "execution_count": null,
      "outputs": []
    },
    {
      "metadata": {
        "trusted": true
      },
      "cell_type": "code",
      "source": "dataset.info()",
      "execution_count": null,
      "outputs": []
    },
    {
      "metadata": {
        "trusted": true
      },
      "cell_type": "code",
      "source": "# df['BsmtCond'].value_counts()",
      "execution_count": null,
      "outputs": []
    },
    {
      "metadata": {
        "trusted": true
      },
      "cell_type": "code",
      "source": "# df['BsmtCond']=df['BsmtCond'].fillna(df['BsmtCond'].mode()[0])",
      "execution_count": null,
      "outputs": []
    },
    {
      "metadata": {
        "trusted": true
      },
      "cell_type": "code",
      "source": "# df['BsmtCond'].value_counts()",
      "execution_count": null,
      "outputs": []
    },
    {
      "metadata": {
        "trusted": true
      },
      "cell_type": "code",
      "source": "# df['BsmtCond'].isnull().values.any()",
      "execution_count": null,
      "outputs": []
    },
    {
      "metadata": {},
      "cell_type": "markdown",
      "source": "**Selecting important features for further data clean up and model training . I have selected these feature based on the heat map. However feature selection is one area where I need to work more to get a good result **"
    },
    {
      "metadata": {
        "trusted": true
      },
      "cell_type": "code",
      "source": "# import seaborn as sns\n# #get correlations of each features in dataset\n# corrmat = df.corr()\n# top_corr_features = corrmat.index\n# print(top_corr_features)\n# # plt.figure(figsize=(30,30))\n# # plot heat map\n# # g=sns.heatmap(df[top_corr_features].corr(),annot=True,cmap=\"RdYlGn\")",
      "execution_count": null,
      "outputs": []
    },
    {
      "metadata": {
        "trusted": true
      },
      "cell_type": "code",
      "source": "# df=df[[\"SalePrice\",\"MSZoning\",\"Neighborhood\",\"BldgType\",\"HouseStyle\",\"Id\",\"LotFrontage\",\"LotArea\",\"OverallQual\",\"YearBuilt\",\"YearRemodAdd\",\"MasVnrArea\",\"BsmtFinSF1\",\"TotalBsmtSF\",\"1stFlrSF\",\"2ndFlrSF\",\"BsmtFullBath\",\"GrLivArea\",\"FullBath\",\"TotRmsAbvGrd\",\"Fireplaces\",\"GarageYrBlt\",\"GarageCars\",\"GarageArea\",\"WoodDeckSF\",\"OpenPorchSF\"]]",
      "execution_count": null,
      "outputs": []
    },
    {
      "metadata": {},
      "cell_type": "markdown",
      "source": "**Checking if any null value present or not in the data set**"
    },
    {
      "metadata": {
        "trusted": true
      },
      "cell_type": "code",
      "source": "# df.isnull().values.any()",
      "execution_count": null,
      "outputs": []
    },
    {
      "metadata": {},
      "cell_type": "markdown",
      "source": "**Get the data frame information**"
    },
    {
      "metadata": {
        "trusted": true
      },
      "cell_type": "code",
      "source": "#  df.head()\n# display(df)",
      "execution_count": null,
      "outputs": []
    },
    {
      "metadata": {
        "trusted": true
      },
      "cell_type": "code",
      "source": "",
      "execution_count": null,
      "outputs": []
    },
    {
      "metadata": {},
      "cell_type": "markdown",
      "source": "**Clean up Data**"
    },
    {
      "metadata": {
        "trusted": true
      },
      "cell_type": "code",
      "source": "# # Clean up MasVnrArea\n# df.MasVnrArea.fillna(0,inplace=True)\n\n# # Clean up LotFrontage\n# df.LotFrontage.value_counts()\n# df.LotFrontage.mean()\n# df.LotFrontage.fillna(70.0,inplace=True)\n# df.LotFrontage.isnull().values.any()\n\n# # Clean up TotalBsmtSF\n# df.TotalBsmtSF.mean()\n# df.TotalBsmtSF.fillna(1051,inplace=True)\n# df.TotalBsmtSF.isnull().values.any()\n\n# # Clean up MSZoning\n# df.MSZoning.value_counts()\n# df.MSZoning.fillna(2265,inplace=True)\n\n# # Clean up BsmtFinSF1\n# df[df.BsmtFinSF1.isnull()]\n# df.BsmtFinSF1.value_counts()\n# df.BsmtFinSF1.fillna(0.0,inplace=True)\n\n# # Clean up BsmtFullBath\n# df[df.BsmtFullBath.isnull()]\n# df.BsmtFullBath.value_counts()\n# df.BsmtFullBath.fillna(0.0,inplace=True)\n\n# # Clean up GarageCars\n# df.GarageCars.value_counts()\n# df.GarageCars.fillna(1594,inplace=True)\n# df.GarageArea.value_counts()\n# df.GarageArea.mean()\n# df.GarageArea.fillna(480.0,inplace=True)",
      "execution_count": null,
      "outputs": []
    },
    {
      "metadata": {
        "trusted": true
      },
      "cell_type": "markdown",
      "source": "**Create columns for categorical features by using get_dummies method**"
    },
    {
      "metadata": {
        "trusted": true
      },
      "cell_type": "code",
      "source": "# df=pd.get_dummies(df,columns=['MSZoning','Neighborhood','BldgType','HouseStyle'])",
      "execution_count": null,
      "outputs": []
    },
    {
      "metadata": {},
      "cell_type": "markdown",
      "source": "**Here data clean up is done , therefore we need to create train and test data frame for training machine learning model and test the same respectively**"
    },
    {
      "metadata": {
        "trusted": true
      },
      "cell_type": "code",
      "source": "data_train=dataset.loc[dataset.SalePrice!=-888]\ncolumns=[column for column in dataset.columns if column!='SalePrice']\ndata_test=dataset.loc[dataset.SalePrice==-888,columns]",
      "execution_count": null,
      "outputs": []
    },
    {
      "metadata": {},
      "cell_type": "markdown",
      "source": "**test data frame information**"
    },
    {
      "metadata": {},
      "cell_type": "markdown",
      "source": "**Train data frame information**"
    },
    {
      "metadata": {
        "trusted": true
      },
      "cell_type": "code",
      "source": "print(data_train.isnull().values.any())\nprint(data_test.isnull().values.any())",
      "execution_count": null,
      "outputs": []
    },
    {
      "metadata": {},
      "cell_type": "markdown",
      "source": "**Separtae labels and feature from the data fram to train and test model**"
    },
    {
      "metadata": {
        "trusted": true
      },
      "cell_type": "code",
      "source": "import numpy as np\n\nlabels=np.array(data_train['SalePrice'])\ndata_train=data_train.drop('SalePrice',axis=1)\nfeatures=np.array(data_train)",
      "execution_count": null,
      "outputs": []
    },
    {
      "metadata": {},
      "cell_type": "markdown",
      "source": "**Split train and test of the entire traing data set**"
    },
    {
      "metadata": {
        "trusted": true
      },
      "cell_type": "code",
      "source": "\n\ntrain_feature,test_feature,train_label,test_label=train_test_split(features,labels,test_size=0.20,random_state=0)\n\nprint ('Training features shape : ' ,train_feature.shape)\nprint ('Testing feature shape : ' ,test_feature.shape)\nprint ('Training label shape : ' ,train_label.shape)\nprint ('Testing label shape : ' ,test_label.shape)",
      "execution_count": null,
      "outputs": []
    },
    {
      "metadata": {},
      "cell_type": "markdown",
      "source": "**Build a fucntion to get Root Mean Squared Logarithmic Error **"
    },
    {
      "metadata": {
        "trusted": true
      },
      "cell_type": "code",
      "source": "import math\n\n#A function to calculate Root Mean Squared Logarithmic Error (RMSLE)\ndef rmsle(y, y_pred):\n    assert len(y) == len(y_pred)\n    terms_to_sum = [(math.log(y_pred[i] + 1) - math.log(y[i] + 1)) ** 2.0 for i,pred in enumerate(y_pred)]\n    return (sum(terms_to_sum) * (1.0/len(y))) ** 0.5",
      "execution_count": null,
      "outputs": []
    },
    {
      "metadata": {},
      "cell_type": "markdown",
      "source": "## Training Random Forest model"
    },
    {
      "metadata": {
        "trusted": true
      },
      "cell_type": "code",
      "source": "# Training random forest model\nfrom sklearn.ensemble import RandomForestRegressor\nrf=RandomForestRegressor(n_estimators=1000,random_state=42)\nrf.fit(train_feature,train_label)\n\n# Predict Traing data\nprediction_train=rf.predict(train_feature)\nerrors_train=abs(prediction_train-train_label)\nprint('Mean Absolute Error in Training data set for Ramdom Forest: ',round(np.mean(errors_train),2),'degrees.')\nmape_train=100*(errors_train/train_label)\naccuracy_train = 100-np.mean(mape_train)\nprint('Accuracy in training data set for random forest: ', round(accuracy_train,2),'%.')\nrms_train = sqrt(mean_squared_error(train_label, prediction_train))\nprint ('Root mean square in training data set for random forest: ',rms_train)\nrmsle_train=rmsle(train_label, prediction_train)\n\n# Predict test data\nprediction_test=rf.predict(test_feature)\nerrors_test=abs(prediction_test-test_label)\nprint('Mean Absolute Error in Test data set  for Ramdom Forest: ',round(np.mean(errors_test),2),'degrees.')\nmape_test=100*(errors_test/test_label)\naccuracy_test = 100-np.mean(mape_test)\nprint('Accuracy in test data set  for Ramdom Forest: ', round(accuracy_test,2),'%.')\nrms_test = sqrt(mean_squared_error(test_label, prediction_test))\nprint ('Root mean square in test data set for random forest: ',rms_test)\nrmsle_test=rmsle(test_label, prediction_test)\nprint ('Root mean square logarithmic error in test data set for random forest: ',rmsle_test)\n\n",
      "execution_count": null,
      "outputs": []
    },
    {
      "metadata": {
        "trusted": true
      },
      "cell_type": "code",
      "source": "import pickle \nfilename='finalized_model.pkl'\npickle.dump(rf,open(filename,'wb'))",
      "execution_count": null,
      "outputs": []
    },
    {
      "metadata": {},
      "cell_type": "markdown",
      "source": "## Training XGBoost Model"
    },
    {
      "metadata": {
        "trusted": true
      },
      "cell_type": "code",
      "source": "\nXGB_resgression = XGBRegressor(learning_rate=0.01,n_estimators=3460,\n                                     max_depth=3, min_child_weight=0,\n                                     gamma=0, subsample=0.7,\n                                     colsample_bytree=0.7,\n                                     objective='reg:linear', nthread=-1,\n                                     scale_pos_weight=1, seed=27,\n                                     reg_alpha=0.00006)\nXGB_resgression.fit(train_feature,train_label)\n\n# # Predict Traing data\n# prediction_train=XGB_resgression.predict(train_feature)\n# errors_train=abs(prediction_train-train_label)\n# print('Mean Absolute Error in Training data set for Ramdom Forest: ',round(np.mean(errors_train),2),'degrees.')\n# mape_train=100*(errors_train/train_label)\n# accuracy_train = 100-np.mean(mape_train)\n# print('Accuracy in training data set for random forest: ', round(accuracy_train,2),'%.')\n# rms_train = sqrt(mean_squared_error(train_label, prediction_train))\n# print ('Root mean square in training data set for random forest: ',rms_train)\n# rmsle_train=rmsle(train_label, prediction_train)\n\n# # Predict test data\n# prediction_test=XGB_resgression.predict(test_feature)\n# errors_test=abs(prediction_test-test_label)\n# print('Mean Absolute Error in Test data set  for Ramdom Forest: ',round(np.mean(errors_test),2),'degrees.')\n# mape_test=100*(errors_test/test_label)\n# accuracy_test = 100-np.mean(mape_test)\n# print('Accuracy in test data set  for Ramdom Forest: ', round(accuracy_test,2),'%.')\n# rms_test = sqrt(mean_squared_error(test_label, prediction_test))\n# print ('Root mean square in test data set for random forest: ',rms_test)\n# rmsle_test=rmsle(test_label, prediction_test)\n# print ('Root mean square logarithmic error in test data set for random forest: ',rmsle_test)\n",
      "execution_count": null,
      "outputs": []
    },
    {
      "metadata": {
        "trusted": true
      },
      "cell_type": "code",
      "source": "# import xgboost\n# regressor=xgboost.XGBRegressor()\n\n# booster=['gbtree','gblinear']\n# base_score=[0.25,0.5,0.75,1]\n\n\n# ## Hyper Parameter Optimization\n\n\n# n_estimators = [100, 500, 900, 1100, 1500]\n# max_depth = [2, 3, 5, 10, 15]\n# booster=['gbtree','gblinear']\n# learning_rate=[0.05,0.1,0.15,0.20]\n# min_child_weight=[1,2,3,4]\n\n# # Define the grid of hyperparameters to search\n# hyperparameter_grid = {\n#     'n_estimators': n_estimators,\n#     'max_depth':max_depth,\n#     'learning_rate':learning_rate,\n#     'min_child_weight':min_child_weight,\n#     'booster':booster,\n#     'base_score':base_score\n#     }\n\n\n\n# # Set up the random search with 4-fold cross validation\n# random_cv = RandomizedSearchCV(estimator=regressor,\n#             param_distributions=hyperparameter_grid,\n#             cv=5, n_iter=50,\n#             scoring = 'neg_mean_absolute_error',n_jobs = 4,\n#             verbose = 5, \n#             return_train_score = True,\n#             random_state=42)",
      "execution_count": null,
      "outputs": []
    },
    {
      "metadata": {},
      "cell_type": "markdown",
      "source": "## Training XGBoost Model after hyperparameters tunning"
    },
    {
      "metadata": {
        "trusted": true
      },
      "cell_type": "code",
      "source": "# XGB_resgression=xgboost.XGBRegressor(base_score=0.25, booster='gbtree', colsample_bylevel=1,\n#        colsample_bytree=1, gamma=0, learning_rate=0.1, max_delta_step=0,\n#        max_depth=2, min_child_weight=1, missing=None, n_estimators=900,\n#        n_jobs=1, nthread=None, objective='reg:linear', random_state=0,\n#        reg_alpha=0, reg_lambda=1, scale_pos_weight=1, seed=None,\n#        silent=True, subsample=1)\n\n# XGB_resgression.fit(train_feature,train_label)\n\n# # Predict Traing data\n# prediction_train=XGB_resgression.predict(train_feature)\n# errors_train=abs(prediction_train-train_label)\n# print('Mean Absolute Error in Training data set for Ramdom Forest: ',round(np.mean(errors_train),2),'degrees.')\n# mape_train=100*(errors_train/train_label)\n# accuracy_train = 100-np.mean(mape_train)\n# print('Accuracy in training data set for random forest: ', round(accuracy_train,2),'%.')\n# rms_train = sqrt(mean_squared_error(train_label, prediction_train))\n# print ('Root mean square in training data set for random forest: ',rms_train)\n# rmsle_train=rmsle(train_label, prediction_train)\n\n# # Predict test data\n# prediction_test=XGB_resgression.predict(test_feature)\n# errors_test=abs(prediction_test-test_label)\n# print('Mean Absolute Error in Test data set  for Ramdom Forest: ',round(np.mean(errors_test),2),'degrees.')\n# mape_test=100*(errors_test/test_label)\n# accuracy_test = 100-np.mean(mape_test)\n# print('Accuracy in test data set  for Ramdom Forest: ', round(accuracy_test,2),'%.')\n# rms_test = sqrt(mean_squared_error(test_label, prediction_test))\n# print ('Root mean square in test data set for random forest: ',rms_test)\n# rmsle_test=rmsle(test_label, prediction_test)\n# print ('Root mean square logarithmic error in test data set for random forest: ',rmsle_test)\n",
      "execution_count": null,
      "outputs": []
    },
    {
      "metadata": {
        "trusted": true
      },
      "cell_type": "code",
      "source": "import pickle \nfilename='finalized_model.pkl'\npickle.dump(XGB_resgression,open(filename,'wb'))",
      "execution_count": null,
      "outputs": []
    },
    {
      "metadata": {},
      "cell_type": "markdown",
      "source": "## Predict the actual test data frame- Random Forest"
    },
    {
      "metadata": {
        "trusted": true
      },
      "cell_type": "code",
      "source": "prediction=rf.predict(data_test)",
      "execution_count": null,
      "outputs": []
    },
    {
      "metadata": {
        "trusted": true
      },
      "cell_type": "code",
      "source": "data_test.info()",
      "execution_count": null,
      "outputs": []
    },
    {
      "metadata": {},
      "cell_type": "markdown",
      "source": "## Predict the actual test data frame- XGBoost"
    },
    {
      "metadata": {
        "trusted": true
      },
      "cell_type": "code",
      "source": "prediction_XGBoost=XGB_resgression.predict(data_test)",
      "execution_count": null,
      "outputs": []
    },
    {
      "metadata": {},
      "cell_type": "markdown",
      "source": "**Get the final csv file**"
    },
    {
      "metadata": {
        "trusted": true
      },
      "cell_type": "code",
      "source": "import numpy as np\nimport pandas as pd\nprediction = pd.DataFrame(prediction, columns=['SalePrice']).to_csv('final.csv')",
      "execution_count": null,
      "outputs": []
    },
    {
      "metadata": {
        "trusted": true
      },
      "cell_type": "code",
      "source": "df_final=pd.read_csv('final.csv')",
      "execution_count": null,
      "outputs": []
    },
    {
      "metadata": {
        "trusted": true
      },
      "cell_type": "code",
      "source": "",
      "execution_count": null,
      "outputs": []
    }
  ],
  "metadata": {
    "kernelspec": {
      "name": "python36",
      "display_name": "Python 3.6",
      "language": "python"
    },
    "language_info": {
      "mimetype": "text/x-python",
      "nbconvert_exporter": "python",
      "name": "python",
      "pygments_lexer": "ipython3",
      "version": "3.6.6",
      "file_extension": ".py",
      "codemirror_mode": {
        "version": 3,
        "name": "ipython"
      }
    }
  },
  "nbformat": 4,
  "nbformat_minor": 1
}